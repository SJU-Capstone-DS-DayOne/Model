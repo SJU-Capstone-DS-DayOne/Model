{
 "cells": [
  {
   "cell_type": "code",
   "execution_count": 1,
   "metadata": {},
   "outputs": [],
   "source": [
    "from selenium import webdriver\n",
    "from selenium.webdriver.chrome.service import Service\n",
    "from selenium.webdriver.chrome.options import Options\n",
    "from selenium.webdriver.common.by import By\n",
    "from selenium.webdriver.common.keys import Keys\n",
    "from webdriver_manager.chrome import ChromeDriverManager\n",
    "import time\n",
    "from selenium.webdriver.support.ui import WebDriverWait\n",
    "from selenium.webdriver.support import expected_conditions as EC\n",
    "from bs4 import BeautifulSoup\n",
    "import pandas as pd\n",
    "from datetime import datetime\n",
    "import os\n",
    "import requests\n",
    "import re\n",
    "from time import sleep\n",
    "            \n",
    "\n",
    "# 크롬 드라이버 다운로드 및 자동 설정\n",
    "chrome_driver_path = ChromeDriverManager().install()\n",
    "\n",
    "# 브라우저 꺼짐 방지 옵션\n",
    "chrome_options = Options()\n",
    "chrome_options.add_experimental_option(\"detach\", True)\n",
    "\n",
    "# 불필요한 에러 메시지 삭제\n",
    "chrome_options.add_experimental_option(\"excludeSwitches\", [\"enable-logging\"])\n",
    "\n",
    "# 크롬 브라우저를 열고 cbs news 웹페이지로 이동\n",
    "region = '광진구음식점'\n",
    "url = f\"https://map.naver.com/p/search/{region}\"\n",
    "driver = webdriver.Chrome(service=Service(chrome_driver_path), options=chrome_options)\n",
    "driver.get(url)\n",
    "# driver.maximize_window()\n",
    "time.sleep(10)"
   ]
  },
  {
   "cell_type": "code",
   "execution_count": 2,
   "metadata": {},
   "outputs": [
    {
     "name": "stdout",
     "output_type": "stream",
     "text": [
      "iframe 전환\n"
     ]
    }
   ],
   "source": [
    "# iframe으로 전환\n",
    "iframe = driver.find_element(By.CSS_SELECTOR, \"iframe#searchIframe\")\n",
    "driver.switch_to.frame(iframe)\n",
    "time.sleep(3)\n",
    "print(\"iframe 전환\")"
   ]
  },
  {
   "cell_type": "code",
   "execution_count": null,
   "metadata": {},
   "outputs": [],
   "source": [
    "def scroll_down():\n",
    "    # 한 번에 10개의 식당이 나오고, 스크롤 시 동적으로 추가되어 총 50개까지 한 페이지 안에 나온다\n",
    "    for i in range(4):\n",
    "        # 페이지 아래로 스크롤\n",
    "        driver.execute_script(\"arguments[0].scrollTo(0, arguments[0].scrollHeight);\", driver.find_element(By.CSS_SELECTOR, \"#_pcmap_list_scroll_container\"))\n",
    "        time.sleep(3)\n",
    "    \n"
   ]
  },
  {
   "cell_type": "code",
   "execution_count": 20,
   "metadata": {},
   "outputs": [
    {
     "name": "stdout",
     "output_type": "stream",
     "text": [
      "click\n",
      "Last Page\n"
     ]
    }
   ],
   "source": [
    "def next_page():\n",
    "\n",
    "    # '>' 버튼 찾기\n",
    "    next_button = driver.find_elements(By.CSS_SELECTOR, \".eUTV2\")[-1]\n",
    "    if next_button.get_attribute(\"aria-disabled\") == 'true':\n",
    "        print(\"Last Page\")\n",
    "        return -1\n",
    "\n",
    "    else:\n",
    "        next_button.click()\n",
    "        print(\"click\")\n",
    "\n",
    "    time.sleep(3)\n",
    "\n",
    "for i in range(4):\n",
    "    tag = next_page()\n",
    "    if tag == -1:\n",
    "        break\n"
   ]
  }
 ],
 "metadata": {
  "kernelspec": {
   "display_name": "Python 3",
   "language": "python",
   "name": "python3"
  },
  "language_info": {
   "codemirror_mode": {
    "name": "ipython",
    "version": 3
   },
   "file_extension": ".py",
   "mimetype": "text/x-python",
   "name": "python",
   "nbconvert_exporter": "python",
   "pygments_lexer": "ipython3",
   "version": "3.11.5"
  }
 },
 "nbformat": 4,
 "nbformat_minor": 2
}
