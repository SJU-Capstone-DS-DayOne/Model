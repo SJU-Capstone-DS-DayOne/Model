{
 "cells": [
  {
   "cell_type": "code",
   "execution_count": 28,
   "metadata": {},
   "outputs": [],
   "source": [
    "from selenium import webdriver\n",
    "from selenium.webdriver.chrome.service import Service\n",
    "from selenium.webdriver.chrome.options import Options\n",
    "from selenium.webdriver.common.by import By\n",
    "from selenium.webdriver.common.keys import Keys\n",
    "from webdriver_manager.chrome import ChromeDriverManager\n",
    "from selenium.webdriver.support.ui import WebDriverWait\n",
    "from selenium.webdriver.support import expected_conditions as EC\n",
    "from bs4 import BeautifulSoup\n",
    "import pandas as pd\n",
    "from datetime import datetime\n",
    "import os\n",
    "import requests\n",
    "import re\n",
    "import time\n",
    "from time import sleep\n",
    "            \n",
    "\n",
    "# 크롬 드라이버 다운로드 및 자동 설정\n",
    "chrome_driver_path = ChromeDriverManager().install()\n",
    "\n",
    "# 브라우저 꺼짐 방지 옵션\n",
    "chrome_options = Options()\n",
    "chrome_options.add_experimental_option(\"detach\", True)\n",
    "\n",
    "# 불필요한 에러 메시지 삭제\n",
    "chrome_options.add_experimental_option(\"excludeSwitches\", [\"enable-logging\"])\n",
    "\n",
    "# 크롬 브라우저를 열고 cbs news 웹페이지로 이동\n",
    "region = '광진구음식점'\n",
    "url = f\"https://map.naver.com/p/search/{region}\"\n",
    "driver = webdriver.Chrome(service=Service(chrome_driver_path), options=chrome_options)\n",
    "driver.get(url)\n",
    "# driver.maximize_window()\n",
    "time.sleep(10)"
   ]
  },
  {
   "cell_type": "code",
   "execution_count": 41,
   "metadata": {},
   "outputs": [
    {
     "name": "stdout",
     "output_type": "stream",
     "text": [
      "iframe 전환\n"
     ]
    }
   ],
   "source": [
    "# iframe으로 전환\n",
    "iframe = driver.find_element(By.CSS_SELECTOR, \"iframe#searchIframe\")\n",
    "driver.switch_to.frame(iframe)\n",
    "time.sleep(3)\n",
    "print(\"iframe 전환\")"
   ]
  },
  {
   "cell_type": "code",
   "execution_count": 3,
   "metadata": {},
   "outputs": [],
   "source": [
    "def scroll_down():\n",
    "    # 한 번에 10개의 식당이 나오고, 스크롤 시 동적으로 추가되어 총 50개까지 한 페이지 안에 나온다\n",
    "    for i in range(4):\n",
    "        # 페이지 아래로 스크롤\n",
    "        driver.execute_script(\"arguments[0].scrollTo(0, arguments[0].scrollHeight);\", driver.find_element(By.CSS_SELECTOR, \"#_pcmap_list_scroll_container\"))\n",
    "        time.sleep(3)\n",
    "    \n"
   ]
  },
  {
   "cell_type": "code",
   "execution_count": 4,
   "metadata": {},
   "outputs": [],
   "source": [
    "def next_page():\n",
    "\n",
    "    # '>' 버튼 찾기\n",
    "    next_button = driver.find_elements(By.CSS_SELECTOR, \".eUTV2\")[-1]\n",
    "    if next_button.get_attribute(\"aria-disabled\") == 'true':\n",
    "        print(\"Last Page\")\n",
    "        return -1\n",
    "\n",
    "    else:\n",
    "        next_button.click()\n",
    "        print(\"click\")\n",
    "\n",
    "    time.sleep(3)\n",
    "\n",
    "# for i in range(4):\n",
    "#     tag = next_page()\n",
    "#     if tag == -1:\n",
    "#         break\n"
   ]
  },
  {
   "cell_type": "code",
   "execution_count": 37,
   "metadata": {},
   "outputs": [
    {
     "name": "stdout",
     "output_type": "stream",
     "text": [
      "현재 프레임: 최상위 컨텍스트\n"
     ]
    }
   ],
   "source": [
    "# driver.switch_to.default_content()\n",
    "\n",
    "from selenium.webdriver.common.by import By\n",
    "\n",
    "# 현재 프레임을 변경한 적이 있는지 여부를 확인\n",
    "try:\n",
    "    driver.find_element(By.XPATH, \".//*\")\n",
    "    print(\"현재 프레임: 최상위 컨텍스트\")\n",
    "except:\n",
    "    # 만약 예외가 발생한다면 현재 프레임이 설정된 것임\n",
    "    print(\"현재 프레임:\", driver.current_frame)\n"
   ]
  },
  {
   "cell_type": "code",
   "execution_count": 147,
   "metadata": {},
   "outputs": [],
   "source": [
    "driver.switch_to.default_content()\n",
    "# iframe 나가기"
   ]
  },
  {
   "cell_type": "code",
   "execution_count": 148,
   "metadata": {},
   "outputs": [],
   "source": [
    "iframe = driver.find_element(By.CSS_SELECTOR, \"iframe#searchIframe\")\n",
    "rst_taps = driver.switch_to.frame(iframe)\n",
    "\n",
    "# 레스토랑 탭 들어가기"
   ]
  },
  {
   "cell_type": "code",
   "execution_count": 131,
   "metadata": {},
   "outputs": [
    {
     "name": "stdout",
     "output_type": "stream",
     "text": [
      "매일\n",
      "17:00 - 08:00\n"
     ]
    }
   ],
   "source": [
    "rst_test = driver.find_element(By.CSS_SELECTOR, \".UEzoS\")\n",
    "rst = rst_test.find_element(By.CSS_SELECTOR, \".tzwk0\")\n",
    "\n",
    "# 레스토랑 방문\n",
    "rst.click()\n",
    "time.sleep(1)\n",
    "\n",
    "# 전체 페이지로 복귀하도록 iframe에서 벗어나기 -> 그래야만 새로 생긴 iframe 탭에 접근할 수 있음\n",
    "driver.switch_to.default_content()\n",
    "\n",
    "# 새로 생긴 식당 탭 iframe으로 전환\n",
    "iframe = driver.find_element(By.CSS_SELECTOR, \"#entryIframe\")\n",
    "driver.switch_to.frame(iframe)\n",
    "time.sleep(1)\n",
    "# print(\"식당 탭 iframe 전환\")\n",
    "\n",
    "\"\"\"\n",
    "    \n",
    "정보 수집\n",
    "\"\"\"\n",
    "time_button = driver.find_elements(By.CSS_SELECTOR, \"._UCia\")[1].click()           # 식당 시간 더보기 버튼 클릭\n",
    "rst_days =  driver.find_elements(By.CSS_SELECTOR, \".i8cJw\")        # 영업 요일\n",
    "rst_time =  driver.find_elements(By.CSS_SELECTOR, \".H3ua4\")        # 영업 요일별 시간\n",
    "\n",
    "xxx = driver.find_elements(By.CSS_SELECTOR, \".A_cdD\")[1:]\n",
    "\n",
    "times = []\n",
    "\n",
    "for x in xxx:\n",
    "    print(x.text)\n"
   ]
  },
  {
   "cell_type": "code",
   "execution_count": null,
   "metadata": {},
   "outputs": [],
   "source": [
    "rsts = driver.find_elements(By.CSS_SELECTOR, \".UEzoS\")\n",
    "\n",
    "for rst in rsts:\n",
    "    rst = rst.find_element(By.CSS_SELECTOR, \".tzwk0\")\n",
    "\n",
    "    # 레스토랑 방문\n",
    "    rst.click()\n",
    "    time.sleep(2)\n",
    "\n",
    "    # 전체 페이지로 복귀하도록 iframe에서 벗어나기 -> 그래야만 새로 생긴 iframe 탭에 접근할 수 있음\n",
    "    driver.switch_to.default_content()\n",
    "\n",
    "    # 새로 생긴 식당 탭 iframe으로 전환\n",
    "    iframe = driver.find_element(By.CSS_SELECTOR, \"#entryIframe\")\n",
    "    driver.switch_to.frame(iframe)\n",
    "    time.sleep(2)\n",
    "    print(\"식당 탭 iframe 전환\")\n",
    "\n",
    "    \"\"\"\n",
    "    \n",
    "    정보 수집\n",
    "    \"\"\"\n",
    "    crawl_rst_info()\n",
    "\n",
    "    # iframe 다시 레스토랑 전체 탭으로 복귀\n",
    "    driver.switch_to.default_content()\n",
    "    iframe = driver.find_element(By.CSS_SELECTOR, \"iframe#searchIframe\")\n",
    "    driver.switch_to.frame(iframe)\n",
    "    time.sleep(2)\n",
    "    "
   ]
  },
  {
   "cell_type": "code",
   "execution_count": 150,
   "metadata": {},
   "outputs": [],
   "source": [
    "# 식당정보 수집\n",
    "\n",
    "# !! issue : 식당 전화번호가 없는 경우 긁히지 않음. try로 전부 바꿔줘야 할 듯\n",
    "\n",
    "def crawl_rst_info():\n",
    "    rst_name = driver.find_element(By.CSS_SELECTOR, \".Fc1rA\").text              # 식당이름\n",
    "    rst_category =  driver.find_element(By.CSS_SELECTOR, \".DJJvD\").text         # 식당 카테고리\n",
    "    rst_nreviews =  driver.find_elements(By.CSS_SELECTOR, \".PXMot\")[-2].text    # 식당 리뷰 수\n",
    "    rst_address =  driver.find_element(By.CSS_SELECTOR, \".LDgIH\").text     # 식당 주소\n",
    "    rst_number = driver.find_element(By.CSS_SELECTOR, \".xlx7Q\").text        # 식당 전화번호\n",
    "\n",
    "    time_button = driver.find_elements(By.CSS_SELECTOR, \"._UCia\")[1].click()           # 식당 시간 더보기 버튼 클릭\n",
    "    time.sleep(2)\n",
    "    rst_times =  driver.find_elements(By.CSS_SELECTOR, \".A_cdD\")[1:]        # 요일별 영업시간들\n",
    "    \n",
    "    times = []\n",
    "    for rst_time in rst_times:\n",
    "        times.append(rst_time.text)\n",
    "\n",
    "    print(rst_name)       # clear\n",
    "    print(rst_category)   # clear\n",
    "    print(rst_nreviews)   # clear\n",
    "    print(rst_address)    # clear\n",
    "    print(rst_number)     # clear\n",
    "    print(times)          # clear"
   ]
  },
  {
   "cell_type": "code",
   "execution_count": 78,
   "metadata": {},
   "outputs": [],
   "source": [
    "rst_time = driver.find_elements(By.CSS_SELECTOR, \".A_cdD\")\n",
    "for time in rst_time:\n",
    "    print(time.text)"
   ]
  },
  {
   "cell_type": "code",
   "execution_count": 77,
   "metadata": {},
   "outputs": [
    {
     "data": {
      "text/plain": [
       "[]"
      ]
     },
     "execution_count": 77,
     "metadata": {},
     "output_type": "execute_result"
    }
   ],
   "source": [
    "rst_time"
   ]
  },
  {
   "cell_type": "code",
   "execution_count": 50,
   "metadata": {},
   "outputs": [
    {
     "name": "stdout",
     "output_type": "stream",
     "text": [
      "불야성\n",
      "요리주점\n",
      "서울 광진구 동일로22길 89 1층\n",
      "방문자리뷰 87\n",
      "['영업 중\\n08:00에 영업 종료\\n8시 0분에 영업 종료', '매일\\n17:00 - 08:00']\n"
     ]
    }
   ],
   "source": [
    "print(rst_name)\n",
    "print(rst_category)\n",
    "print(rst_nreviews)   # clear\n",
    "print(rst_address)    # clear\n",
    "print(times)"
   ]
  },
  {
   "cell_type": "code",
   "execution_count": 22,
   "metadata": {},
   "outputs": [
    {
     "name": "stdout",
     "output_type": "stream",
     "text": [
      "영업 중\n",
      "08:00에 영업 종료\n",
      "8시 0분에 영업 종료\n",
      "매일\n",
      "17:00 - 08:00\n"
     ]
    }
   ],
   "source": [
    "for time in rst_time:\n",
    "    print(time.text)"
   ]
  }
 ],
 "metadata": {
  "kernelspec": {
   "display_name": "Python 3",
   "language": "python",
   "name": "python3"
  },
  "language_info": {
   "codemirror_mode": {
    "name": "ipython",
    "version": 3
   },
   "file_extension": ".py",
   "mimetype": "text/x-python",
   "name": "python",
   "nbconvert_exporter": "python",
   "pygments_lexer": "ipython3",
   "version": "3.11.5"
  }
 },
 "nbformat": 4,
 "nbformat_minor": 2
}
