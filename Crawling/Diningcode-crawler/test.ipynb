{
 "cells": [
  {
   "cell_type": "code",
   "execution_count": 1,
   "metadata": {},
   "outputs": [],
   "source": [
    "from lib2to3.pgen2 import driver\n",
    "from typing import Union\n",
    "from selenium.webdriver.chrome.webdriver import WebDriver as ChromeDriver\n",
    "from selenium.webdriver.remote.webdriver import WebDriver\n",
    "from selenium.webdriver.remote.webelement import WebElement\n",
    "from selenium.webdriver.chrome.service import Service as ChromeService\n",
    "from selenium.webdriver.chrome.options import Options as ChromeOptions\n",
    "from webdriver_manager.chrome import ChromeDriverManager\n",
    "from selenium.webdriver.common.by import By\n",
    "from selenium.webdriver.support import expected_conditions as EC\n",
    "from selenium.webdriver.support.ui import WebDriverWait\n",
    "from selenium.webdriver.support.select import Select\n",
    "from selenium.common.exceptions import NoSuchWindowException\n",
    "import pandas as pd\n",
    "import numpy as np\n",
    "import re"
   ]
  },
  {
   "cell_type": "code",
   "execution_count": 15,
   "metadata": {},
   "outputs": [],
   "source": [
    "service = ChromeService(ChromeDriverManager().install())\n",
    "driver = ChromeDriver(service=service)\n",
    "\n",
    "driver.get('https://www.diningcode.com/profile.php?rid=PYk33Cv6jpwY')\n",
    "\n",
    "tmp_list = driver.find_elements(By.XPATH, '//*[@class=\"more-btn button\"]')\n",
    "for x in range(len(tmp_list)):\n",
    "    tmp_list[x].click()\n",
    "\n",
    "driver.find_elements(By.XPATH, '//*[@class=\"more-btn button\"]')[0].click()\n",
    "driver.find_elements(By.XPATH, '//*[@class=\"more-btn button\"]')[1].click()\n",
    "driver.find_elements(By.XPATH, '//*[@class=\"more-btn button\"]')[2].click()\n",
    "driver.find_elements(By.XPATH, '//*[@class=\"s-list detail-info\"]//*[@class=\"menu-info short\"]//*[@class=\"more-btn\"]')[0].click()#메뉴\n",
    "driver.find_elements(By.XPATH, '//*[@class=\"s-list detail-info\"]//*[@class=\"busi-hours short\"]//*[@class=\"more-btn\"]')\n",
    "driver.implicitly_wait(10)\n",
    "\n",
    "list = driver.find_elements(By.XPATH, '//*[@class=\"app-arti\"]//*[@class=\"icon\"]')\n",
    "open_left = driver.find_elements(By.XPATH, '//*[@class=\"s-list detail-info\"]//*[@class=\"busi-hours\"]//*[@class=\"l-txt\"]')\n",
    "open_right = driver.find_elements(By.XPATH, '//*[@class=\"s-list detail-info\"]//*[@class=\"busi-hours\"]//*[@class=\"r-txt\"]')\n",
    "\n",
    "menu_left = driver.find_elements(By.XPATH,'//*[@class=\"s-list detail-info\"]//*[@class=\"menu-info\"]//*[@class=\"Restaurant_Menu\"]')\n",
    "menu_right = driver.find_elements(By.XPATH,'//*[@class=\"s-list detail-info\"]//*[@class=\"menu-info\"]//*[@class=\"r-txt Restaurant_MenuPrice\"]')\n",
    "\n",
    "for x in range(len(menu_right)):\n",
    "    print(menu_right[x].text)\n",
    "print(len(menu_right))"
   ]
  },
  {
   "cell_type": "code",
   "execution_count": 14,
   "metadata": {},
   "outputs": [
    {
     "name": "stdout",
     "output_type": "stream",
     "text": [
      "먹죽귀 (482곳 작성, 15,696개 공감받음)\n",
      "https://s3-ap-northeast-1.amazonaws.com/dcicons/members/de3d409367e9c0da1f45827928bba8ea.png\n"
     ]
    }
   ],
   "source": [
    "service = ChromeService(ChromeDriverManager().install())\n",
    "driver = ChromeDriver(service=service)\n",
    "\n",
    "driver.get('https://www.diningcode.com/profile.php?rid=PYk33Cv6jpwY')\n",
    "\n",
    "print(driver.find_elements(By.XPATH, '//*[@class=\"latter-graph\"]//*[@class=\"person-grade\"]//*[@class=\"btxt\"]')[0].text)\n",
    "print(driver.find_elements(By.XPATH, '//*[@class=\"latter-graph\"]//*[@class=\"person-grade\"]//*[@class=\"btxt\"]//img')[0].get_attribute('src'))"
   ]
  },
  {
   "cell_type": "code",
   "execution_count": 16,
   "metadata": {},
   "outputs": [
    {
     "name": "stdout",
     "output_type": "stream",
     "text": [
      "['Detail', 'ID']\n"
     ]
    }
   ],
   "source": [
    "def get_hdf_keys(dir):\n",
    "    with pd.HDFStore(dir) as store:\n",
    "        return [e[1:] for e in store.keys()]\n",
    "\n",
    "dir = './diningcode_test.h5'\n",
    "print(get_hdf_keys(dir))"
   ]
  },
  {
   "cell_type": "code",
   "execution_count": 17,
   "metadata": {},
   "outputs": [
    {
     "data": {
      "text/html": [
       "<div>\n",
       "<style scoped>\n",
       "    .dataframe tbody tr th:only-of-type {\n",
       "        vertical-align: middle;\n",
       "    }\n",
       "\n",
       "    .dataframe tbody tr th {\n",
       "        vertical-align: top;\n",
       "    }\n",
       "\n",
       "    .dataframe thead th {\n",
       "        text-align: right;\n",
       "    }\n",
       "</style>\n",
       "<table border=\"1\" class=\"dataframe\">\n",
       "  <thead>\n",
       "    <tr style=\"text-align: right;\">\n",
       "      <th></th>\n",
       "      <th>ID</th>\n",
       "      <th>Name</th>\n",
       "      <th>Types</th>\n",
       "      <th>Like Count</th>\n",
       "      <th>Location</th>\n",
       "      <th>Tags</th>\n",
       "      <th>Total Review</th>\n",
       "      <th>Total Score</th>\n",
       "      <th>Score</th>\n",
       "      <th>Detail Score</th>\n",
       "      <th>Total Tag</th>\n",
       "      <th>Open Time</th>\n",
       "      <th>Menu</th>\n",
       "      <th>User</th>\n",
       "      <th>DacoDetail Score List</th>\n",
       "      <th>Date List</th>\n",
       "      <th>Total Score List</th>\n",
       "      <th>Review List</th>\n",
       "      <th>Review Rec List</th>\n",
       "    </tr>\n",
       "  </thead>\n",
       "  <tbody>\n",
       "  </tbody>\n",
       "</table>\n",
       "</div>"
      ],
      "text/plain": [
       "Empty DataFrame\n",
       "Columns: [ID, Name, Types, Like Count, Location, Tags, Total Review, Total Score, Score, Detail Score, Total Tag, Open Time, Menu, User, DacoDetail Score List, Date List, Total Score List, Review List, Review Rec List]\n",
       "Index: []"
      ]
     },
     "execution_count": 17,
     "metadata": {},
     "output_type": "execute_result"
    }
   ],
   "source": [
    "cpu_df = pd.read_hdf(dir,'Detail')\n",
    "cpu_df"
   ]
  },
  {
   "cell_type": "code",
   "execution_count": null,
   "metadata": {},
   "outputs": [],
   "source": []
  }
 ],
 "metadata": {
  "kernelspec": {
   "display_name": "torch",
   "language": "python",
   "name": "torch_test"
  },
  "language_info": {
   "codemirror_mode": {
    "name": "ipython",
    "version": 3
   },
   "file_extension": ".py",
   "mimetype": "text/x-python",
   "name": "python",
   "nbconvert_exporter": "python",
   "pygments_lexer": "ipython3",
   "version": "3.8.13"
  },
  "orig_nbformat": 4
 },
 "nbformat": 4,
 "nbformat_minor": 2
}
