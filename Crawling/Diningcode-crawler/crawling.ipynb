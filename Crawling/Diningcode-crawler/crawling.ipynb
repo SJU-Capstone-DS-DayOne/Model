{
 "cells": [
  {
   "cell_type": "code",
   "execution_count": 31,
   "metadata": {},
   "outputs": [],
   "source": [
    "import selenium\n",
    "from selenium.webdriver.common.by import By\n",
    "from urllib3.util.retry import Retry\n",
    "from requests.adapters import HTTPAdapter\n",
    "from openpyxl import Workbook\n",
    "\n",
    "from bs4 import BeautifulSoup\n",
    "from selenium import webdriver\n",
    "from selenium.webdriver.common.keys import Keys\n",
    "from selenium.webdriver.support import expected_conditions as EC\n",
    "from selenium.webdriver.chrome.options import Options\n",
    "from selenium.webdriver.chrome.service import Service\n",
    "from webdriver_manager.chrome import ChromeDriverManager\n",
    "import pyautogui\n",
    "import mouseinfo\n",
    "\n",
    "import time\n",
    "import datetime\n",
    "import requests\n",
    "import random\n",
    "\n",
    "\n",
    "import os\n",
    "import pandas as pd\n",
    "from tqdm import tqdm"
   ]
  },
  {
   "cell_type": "code",
   "execution_count": 34,
   "metadata": {},
   "outputs": [],
   "source": [
    "url = \"https://www.diningcode.com/list.dc?query=\"\n",
    "places = [\"화양동\", \"군자동\", \"광장동\"]"
   ]
  },
  {
   "cell_type": "code",
   "execution_count": 110,
   "metadata": {},
   "outputs": [
    {
     "name": "stderr",
     "output_type": "stream",
     "text": [
      "/var/folders/9q/1dly5q8d5j9dmt8t1fwf05r80000gn/T/ipykernel_38881/2833979925.py:16: DeprecationWarning: use options instead of chrome_options\n",
      "  driver = webdriver.Chrome(chrome_driver_path, chrome_options=options)\n"
     ]
    }
   ],
   "source": [
    "options = Options()\n",
    "# Chrome의 binary path 지정\n",
    "options.binary_location = (\n",
    "    \"/Users/powerjsv/Desktop/Google Chrome.app/Contents/MacOS/Google Chrome\"\n",
    ")\n",
    "\n",
    "# 불필요한 에러 메시지 삭제\n",
    "options.add_experimental_option(\"excludeSwitches\", [\"enable-logging\"])\n",
    "# 최대화\n",
    "options.add_argument('--start-maximized')\n",
    "\n",
    "chrome_driver_path = (\n",
    "    \"/Users/powerjsv/Desktop/project/capstone/chromedriver-mac-arm64/chromedriver\"\n",
    ")\n",
    "\n",
    "driver = webdriver.Chrome(chrome_driver_path, chrome_options=options)\n",
    "driver.implicitly_wait(2)"
   ]
  },
  {
   "cell_type": "code",
   "execution_count": 99,
   "metadata": {},
   "outputs": [],
   "source": [
    "def remove_fucking_ad():\n",
    "    ad_path = [\"#dismiss-button\"]\n",
    "\n",
    "    try:\n",
    "        driver.find_element(By.CSS_SELECTOR, ad_path).click()\n",
    "        print(\"찾았다 씨발 ㅋㅋ\")\n",
    "        time.sleep(3)\n",
    "    except:\n",
    "        print(\"cannot find ad\")\n",
    "        return"
   ]
  },
  {
   "cell_type": "code",
   "execution_count": 111,
   "metadata": {},
   "outputs": [
    {
     "name": "stdout",
     "output_type": "stream",
     "text": [
      "cannot find ad\n",
      "switch!\n",
      "찾앗다 개 씨발\n"
     ]
    },
    {
     "ename": "NoSuchWindowException",
     "evalue": "Message: no such window: target window already closed\nfrom unknown error: web view not found\n  (Session info: chrome=123.0.6312.58)\n",
     "output_type": "error",
     "traceback": [
      "\u001b[0;31m---------------------------------------------------------------------------\u001b[0m",
      "\u001b[0;31mNoSuchWindowException\u001b[0m                     Traceback (most recent call last)",
      "Cell \u001b[0;32mIn[111], line 44\u001b[0m\n\u001b[1;32m     42\u001b[0m \u001b[38;5;28;01mif\u001b[39;00m tabs[\u001b[38;5;241m1\u001b[39m] :\n\u001b[1;32m     43\u001b[0m     \u001b[38;5;28mprint\u001b[39m(\u001b[38;5;124m\"\u001b[39m\u001b[38;5;124m찾앗다 개 씨발\u001b[39m\u001b[38;5;124m\"\u001b[39m)\n\u001b[0;32m---> 44\u001b[0m     \u001b[43mdriver\u001b[49m\u001b[38;5;241;43m.\u001b[39;49m\u001b[43mclose\u001b[49m\u001b[43m(\u001b[49m\u001b[43m)\u001b[49m\n\u001b[1;32m     45\u001b[0m driver\u001b[38;5;241m.\u001b[39mswitch_to\u001b[38;5;241m.\u001b[39mwindow(tabs[\u001b[38;5;241m0\u001b[39m])\n\u001b[1;32m     46\u001b[0m \u001b[38;5;28;01mif\u001b[39;00m cnt \u001b[38;5;241m==\u001b[39m \u001b[38;5;241m3\u001b[39m:\n",
      "File \u001b[0;32m/opt/homebrew/anaconda3/envs/capstone/lib/python3.9/site-packages/selenium/webdriver/remote/webdriver.py:688\u001b[0m, in \u001b[0;36mWebDriver.close\u001b[0;34m(self)\u001b[0m\n\u001b[1;32m    681\u001b[0m \u001b[38;5;28;01mdef\u001b[39;00m \u001b[38;5;21mclose\u001b[39m(\u001b[38;5;28mself\u001b[39m):\n\u001b[1;32m    682\u001b[0m \u001b[38;5;250m    \u001b[39m\u001b[38;5;124;03m\"\"\"\u001b[39;00m\n\u001b[1;32m    683\u001b[0m \u001b[38;5;124;03m    Closes the current window.\u001b[39;00m\n\u001b[1;32m    684\u001b[0m \n\u001b[1;32m    685\u001b[0m \u001b[38;5;124;03m    :Usage:\u001b[39;00m\n\u001b[1;32m    686\u001b[0m \u001b[38;5;124;03m        driver.close()\u001b[39;00m\n\u001b[1;32m    687\u001b[0m \u001b[38;5;124;03m    \"\"\"\u001b[39;00m\n\u001b[0;32m--> 688\u001b[0m     \u001b[38;5;28;43mself\u001b[39;49m\u001b[38;5;241;43m.\u001b[39;49m\u001b[43mexecute\u001b[49m\u001b[43m(\u001b[49m\u001b[43mCommand\u001b[49m\u001b[38;5;241;43m.\u001b[39;49m\u001b[43mCLOSE\u001b[49m\u001b[43m)\u001b[49m\n",
      "File \u001b[0;32m/opt/homebrew/anaconda3/envs/capstone/lib/python3.9/site-packages/selenium/webdriver/remote/webdriver.py:321\u001b[0m, in \u001b[0;36mWebDriver.execute\u001b[0;34m(self, driver_command, params)\u001b[0m\n\u001b[1;32m    319\u001b[0m response \u001b[38;5;241m=\u001b[39m \u001b[38;5;28mself\u001b[39m\u001b[38;5;241m.\u001b[39mcommand_executor\u001b[38;5;241m.\u001b[39mexecute(driver_command, params)\n\u001b[1;32m    320\u001b[0m \u001b[38;5;28;01mif\u001b[39;00m response:\n\u001b[0;32m--> 321\u001b[0m     \u001b[38;5;28;43mself\u001b[39;49m\u001b[38;5;241;43m.\u001b[39;49m\u001b[43merror_handler\u001b[49m\u001b[38;5;241;43m.\u001b[39;49m\u001b[43mcheck_response\u001b[49m\u001b[43m(\u001b[49m\u001b[43mresponse\u001b[49m\u001b[43m)\u001b[49m\n\u001b[1;32m    322\u001b[0m     response[\u001b[38;5;124m'\u001b[39m\u001b[38;5;124mvalue\u001b[39m\u001b[38;5;124m'\u001b[39m] \u001b[38;5;241m=\u001b[39m \u001b[38;5;28mself\u001b[39m\u001b[38;5;241m.\u001b[39m_unwrap_value(\n\u001b[1;32m    323\u001b[0m         response\u001b[38;5;241m.\u001b[39mget(\u001b[38;5;124m'\u001b[39m\u001b[38;5;124mvalue\u001b[39m\u001b[38;5;124m'\u001b[39m, \u001b[38;5;28;01mNone\u001b[39;00m))\n\u001b[1;32m    324\u001b[0m     \u001b[38;5;28;01mreturn\u001b[39;00m response\n",
      "File \u001b[0;32m/opt/homebrew/anaconda3/envs/capstone/lib/python3.9/site-packages/selenium/webdriver/remote/errorhandler.py:242\u001b[0m, in \u001b[0;36mErrorHandler.check_response\u001b[0;34m(self, response)\u001b[0m\n\u001b[1;32m    240\u001b[0m         alert_text \u001b[38;5;241m=\u001b[39m value[\u001b[38;5;124m'\u001b[39m\u001b[38;5;124malert\u001b[39m\u001b[38;5;124m'\u001b[39m]\u001b[38;5;241m.\u001b[39mget(\u001b[38;5;124m'\u001b[39m\u001b[38;5;124mtext\u001b[39m\u001b[38;5;124m'\u001b[39m)\n\u001b[1;32m    241\u001b[0m     \u001b[38;5;28;01mraise\u001b[39;00m exception_class(message, screen, stacktrace, alert_text)\n\u001b[0;32m--> 242\u001b[0m \u001b[38;5;28;01mraise\u001b[39;00m exception_class(message, screen, stacktrace)\n",
      "\u001b[0;31mNoSuchWindowException\u001b[0m: Message: no such window: target window already closed\nfrom unknown error: web view not found\n  (Session info: chrome=123.0.6312.58)\n"
     ]
    }
   ],
   "source": [
    "for place in places:\n",
    "    # driver.get(url+place)\n",
    "    driver.get(url + \"화양동\")\n",
    "    remove_fucking_ad()\n",
    "    # # 검색 결과 더 보기\n",
    "    # xpath_view_more_search = '//*[@id=\"root\"]/div/main/div[2]/div[3]/div/a'\n",
    "    # driver.find_element_by_xpath(xpath_view_more_search).click()\n",
    "\n",
    "    # 20개씩 5번 검색결과 더 보기 클릭\n",
    "    xpath_view_20_more = '//*[@id=\"map\"]/button[2]/span'\n",
    "    for _ in range(4):\n",
    "        driver.find_element_by_xpath(xpath_view_20_more).click()\n",
    "        time.sleep(random.uniform(1,3))\n",
    "    # 각각의 식당 클릭\n",
    "    cnt=0\n",
    "    restaurant_find_selector = \"div.RHeader > div > div.InfoHeader\"\n",
    "\n",
    "    for i in driver.find_elements(By.CSS_SELECTOR, restaurant_find_selector):\n",
    "        # remove_fucking_ad()\n",
    "        cnt+=1\n",
    "        i.click()\n",
    "        time.sleep(random.uniform(1,3))\n",
    "        tabs = driver.window_handles\n",
    "\n",
    "        # 클릭시 리뷰가 새 창으로 뜨기 때문에 창을 이동해줌\n",
    "        driver.switch_to.window(tabs[1])\n",
    "        print(\"switch!\")\n",
    "\n",
    "        # 리뷰 더보기 버튼 안 나올때까지 클릭\n",
    "        while True:\n",
    "            try:\n",
    "                more_review_selector = \"#div_more_review > button\"\n",
    "                driver.find_element(By.CSS_SELECTOR,more_review_selector).click()\n",
    "                time.sleep(random.uniform(1,3))\n",
    "            except:\n",
    "                break\n",
    "        restaurant=[]\n",
    "        review=[]\n",
    "\n",
    "        # 창 닫고 원래 창으로 돌아옴\n",
    "        driver.close()\n",
    "        \n",
    "        if tabs[1] :\n",
    "            print(\"찾앗다 개 씨발\")\n",
    "            driver.close()\n",
    "        driver.switch_to.window(tabs[0])\n",
    "        if cnt == 3:\n",
    "            break\n",
    "    break"
   ]
  },
  {
   "cell_type": "code",
   "execution_count": 105,
   "metadata": {},
   "outputs": [
    {
     "name": "stdout",
     "output_type": "stream",
     "text": [
      "cannot find ad\n"
     ]
    }
   ],
   "source": [
    "remove_fucking_ad()"
   ]
  },
  {
   "cell_type": "code",
   "execution_count": 112,
   "metadata": {},
   "outputs": [
    {
     "name": "stdout",
     "output_type": "stream",
     "text": [
      "['72C0F07297D92785562971DAA3CBFAB1']\n"
     ]
    }
   ],
   "source": [
    "tabs=driver.window_handles\n",
    "print(tabs)"
   ]
  },
  {
   "cell_type": "code",
   "execution_count": 101,
   "metadata": {},
   "outputs": [
    {
     "name": "stderr",
     "output_type": "stream",
     "text": [
      "/var/folders/9q/1dly5q8d5j9dmt8t1fwf05r80000gn/T/ipykernel_38881/2204257098.py:1: DeprecationWarning: use driver.switch_to.window instead\n",
      "  driver.switch_to_window(tabs[0])\n"
     ]
    }
   ],
   "source": [
    "driver.switch_to_window(tabs[0])"
   ]
  },
  {
   "cell_type": "code",
   "execution_count": 103,
   "metadata": {},
   "outputs": [
    {
     "name": "stderr",
     "output_type": "stream",
     "text": [
      "/var/folders/9q/1dly5q8d5j9dmt8t1fwf05r80000gn/T/ipykernel_38881/1828234608.py:1: DeprecationWarning: use driver.switch_to.window instead\n",
      "  driver.switch_to_window(tabs[1])\n"
     ]
    }
   ],
   "source": [
    "driver.switch_to_window(tabs[1])"
   ]
  },
  {
   "cell_type": "code",
   "execution_count": null,
   "metadata": {},
   "outputs": [],
   "source": [
    "reviewer_name_selector = \".latter-graph\""
   ]
  },
  {
   "cell_type": "code",
   "execution_count": 27,
   "metadata": {},
   "outputs": [
    {
     "name": "stdout",
     "output_type": "stream",
     "text": [
      "이구아날\n",
      "평균 별점 4.1   평가 577   팔로워 2\n",
      "4점 맛 맛있음 가격 보통 응대 친절함\n",
      "바나나 푸딩 맛집이라고 들어서 갔는데 맛은 생각보다 보통이었음\n",
      "바나나푸딩 아메리카노\n",
      "차모임 혼카페 데이트 간식 조용한 깔끔한 경관/야경이좋은 지역주민이찾는\n",
      "2023년 10월 3일\n",
      "이구아날\n",
      "평균 별점 4.1   평가 577   팔로워 2\n",
      "4점 맛 맛있음 가격 보통 응대 친절함\n",
      "바나나 푸딩 맛집이라고 들어서 갔는데 맛은 생각보다 보통이었음\n",
      "바나나푸딩 아메리카노\n",
      "차모임 혼카페 데이트 간식 조용한 깔끔한 경관/야경이좋은 지역주민이찾는\n",
      "2023년 10월 3일\n",
      "이구아날\n",
      "평균 별점 4.1   평가 577   팔로워 2\n",
      "4점 맛 맛있음 가격 보통 응대 친절함\n",
      "바나나 푸딩 맛집이라고 들어서 갔는데 맛은 생각보다 보통이었음\n",
      "바나나푸딩 아메리카노\n",
      "차모임 혼카페 데이트 간식 조용한 깔끔한 경관/야경이좋은 지역주민이찾는\n",
      "2023년 10월 3일\n",
      "이구아날\n",
      "평균 별점 4.1   평가 577   팔로워 2\n",
      "4점 맛 맛있음 가격 보통 응대 친절함\n",
      "바나나 푸딩 맛집이라고 들어서 갔는데 맛은 생각보다 보통이었음\n",
      "바나나푸딩 아메리카노\n",
      "차모임 혼카페 데이트 간식 조용한 깔끔한 경관/야경이좋은 지역주민이찾는\n",
      "2023년 10월 3일\n",
      "이구아날\n",
      "평균 별점 4.1   평가 577   팔로워 2\n",
      "4점 맛 맛있음 가격 보통 응대 친절함\n",
      "바나나 푸딩 맛집이라고 들어서 갔는데 맛은 생각보다 보통이었음\n",
      "바나나푸딩 아메리카노\n",
      "차모임 혼카페 데이트 간식 조용한 깔끔한 경관/야경이좋은 지역주민이찾는\n",
      "2023년 10월 3일\n",
      "이구아날\n",
      "평균 별점 4.1   평가 577   팔로워 2\n",
      "4점 맛 맛있음 가격 보통 응대 친절함\n",
      "바나나 푸딩 맛집이라고 들어서 갔는데 맛은 생각보다 보통이었음\n",
      "바나나푸딩 아메리카노\n",
      "차모임 혼카페 데이트 간식 조용한 깔끔한 경관/야경이좋은 지역주민이찾는\n",
      "2023년 10월 3일\n",
      "이구아날\n",
      "평균 별점 4.1   평가 577   팔로워 2\n",
      "4점 맛 맛있음 가격 보통 응대 친절함\n",
      "바나나 푸딩 맛집이라고 들어서 갔는데 맛은 생각보다 보통이었음\n",
      "바나나푸딩 아메리카노\n",
      "차모임 혼카페 데이트 간식 조용한 깔끔한 경관/야경이좋은 지역주민이찾는\n",
      "2023년 10월 3일\n",
      "이구아날\n",
      "평균 별점 4.1   평가 577   팔로워 2\n",
      "4점 맛 맛있음 가격 보통 응대 친절함\n",
      "바나나 푸딩 맛집이라고 들어서 갔는데 맛은 생각보다 보통이었음\n",
      "바나나푸딩 아메리카노\n",
      "차모임 혼카페 데이트 간식 조용한 깔끔한 경관/야경이좋은 지역주민이찾는\n",
      "2023년 10월 3일\n",
      "이구아날\n",
      "평균 별점 4.1   평가 577   팔로워 2\n",
      "4점 맛 맛있음 가격 보통 응대 친절함\n",
      "바나나 푸딩 맛집이라고 들어서 갔는데 맛은 생각보다 보통이었음\n",
      "바나나푸딩 아메리카노\n",
      "차모임 혼카페 데이트 간식 조용한 깔끔한 경관/야경이좋은 지역주민이찾는\n",
      "2023년 10월 3일\n",
      "이구아날\n",
      "평균 별점 4.1   평가 577   팔로워 2\n",
      "4점 맛 맛있음 가격 보통 응대 친절함\n",
      "바나나 푸딩 맛집이라고 들어서 갔는데 맛은 생각보다 보통이었음\n",
      "바나나푸딩 아메리카노\n",
      "차모임 혼카페 데이트 간식 조용한 깔끔한 경관/야경이좋은 지역주민이찾는\n",
      "2023년 10월 3일\n"
     ]
    }
   ],
   "source": [
    "review_selector = \"#div_review\"\n",
    "tmp=driver.find_elements(By.CSS_SELECTOR,\".latter-graph\")\n",
    "for i in range(10):\n",
    "    print(tmp[5].text)"
   ]
  },
  {
   "cell_type": "code",
   "execution_count": 8,
   "metadata": {},
   "outputs": [],
   "source": [
    "a=pd.DataFrame()"
   ]
  },
  {
   "cell_type": "code",
   "execution_count": 22,
   "metadata": {},
   "outputs": [],
   "source": [
    "c=[]"
   ]
  },
  {
   "cell_type": "code",
   "execution_count": 23,
   "metadata": {},
   "outputs": [],
   "source": [
    "b={\"restaurant\": \"Burgerking\"}"
   ]
  },
  {
   "cell_type": "code",
   "execution_count": 24,
   "metadata": {},
   "outputs": [],
   "source": [
    "c.append(b)"
   ]
  },
  {
   "cell_type": "code",
   "execution_count": 25,
   "metadata": {},
   "outputs": [
    {
     "data": {
      "text/plain": [
       "[{'restaurant': 'Burgerking'}]"
      ]
     },
     "execution_count": 25,
     "metadata": {},
     "output_type": "execute_result"
    }
   ],
   "source": [
    "c"
   ]
  },
  {
   "cell_type": "code",
   "execution_count": 20,
   "metadata": {},
   "outputs": [
    {
     "ename": "TypeError",
     "evalue": "cannot concatenate object of type '<class 'str'>'; only Series and DataFrame objs are valid",
     "output_type": "error",
     "traceback": [
      "\u001b[0;31m---------------------------------------------------------------------------\u001b[0m",
      "\u001b[0;31mTypeError\u001b[0m                                 Traceback (most recent call last)",
      "Cell \u001b[0;32mIn[20], line 1\u001b[0m\n\u001b[0;32m----> 1\u001b[0m a\u001b[38;5;241m=\u001b[39m\u001b[43mpd\u001b[49m\u001b[38;5;241;43m.\u001b[39;49m\u001b[43mconcat\u001b[49m\u001b[43m(\u001b[49m\u001b[43mb\u001b[49m\u001b[43m)\u001b[49m\n",
      "File \u001b[0;32m/opt/homebrew/anaconda3/envs/capstone/lib/python3.9/site-packages/pandas/core/reshape/concat.py:382\u001b[0m, in \u001b[0;36mconcat\u001b[0;34m(objs, axis, join, ignore_index, keys, levels, names, verify_integrity, sort, copy)\u001b[0m\n\u001b[1;32m    379\u001b[0m \u001b[38;5;28;01melif\u001b[39;00m copy \u001b[38;5;129;01mand\u001b[39;00m using_copy_on_write():\n\u001b[1;32m    380\u001b[0m     copy \u001b[38;5;241m=\u001b[39m \u001b[38;5;28;01mFalse\u001b[39;00m\n\u001b[0;32m--> 382\u001b[0m op \u001b[38;5;241m=\u001b[39m \u001b[43m_Concatenator\u001b[49m\u001b[43m(\u001b[49m\n\u001b[1;32m    383\u001b[0m \u001b[43m    \u001b[49m\u001b[43mobjs\u001b[49m\u001b[43m,\u001b[49m\n\u001b[1;32m    384\u001b[0m \u001b[43m    \u001b[49m\u001b[43maxis\u001b[49m\u001b[38;5;241;43m=\u001b[39;49m\u001b[43maxis\u001b[49m\u001b[43m,\u001b[49m\n\u001b[1;32m    385\u001b[0m \u001b[43m    \u001b[49m\u001b[43mignore_index\u001b[49m\u001b[38;5;241;43m=\u001b[39;49m\u001b[43mignore_index\u001b[49m\u001b[43m,\u001b[49m\n\u001b[1;32m    386\u001b[0m \u001b[43m    \u001b[49m\u001b[43mjoin\u001b[49m\u001b[38;5;241;43m=\u001b[39;49m\u001b[43mjoin\u001b[49m\u001b[43m,\u001b[49m\n\u001b[1;32m    387\u001b[0m \u001b[43m    \u001b[49m\u001b[43mkeys\u001b[49m\u001b[38;5;241;43m=\u001b[39;49m\u001b[43mkeys\u001b[49m\u001b[43m,\u001b[49m\n\u001b[1;32m    388\u001b[0m \u001b[43m    \u001b[49m\u001b[43mlevels\u001b[49m\u001b[38;5;241;43m=\u001b[39;49m\u001b[43mlevels\u001b[49m\u001b[43m,\u001b[49m\n\u001b[1;32m    389\u001b[0m \u001b[43m    \u001b[49m\u001b[43mnames\u001b[49m\u001b[38;5;241;43m=\u001b[39;49m\u001b[43mnames\u001b[49m\u001b[43m,\u001b[49m\n\u001b[1;32m    390\u001b[0m \u001b[43m    \u001b[49m\u001b[43mverify_integrity\u001b[49m\u001b[38;5;241;43m=\u001b[39;49m\u001b[43mverify_integrity\u001b[49m\u001b[43m,\u001b[49m\n\u001b[1;32m    391\u001b[0m \u001b[43m    \u001b[49m\u001b[43mcopy\u001b[49m\u001b[38;5;241;43m=\u001b[39;49m\u001b[43mcopy\u001b[49m\u001b[43m,\u001b[49m\n\u001b[1;32m    392\u001b[0m \u001b[43m    \u001b[49m\u001b[43msort\u001b[49m\u001b[38;5;241;43m=\u001b[39;49m\u001b[43msort\u001b[49m\u001b[43m,\u001b[49m\n\u001b[1;32m    393\u001b[0m \u001b[43m\u001b[49m\u001b[43m)\u001b[49m\n\u001b[1;32m    395\u001b[0m \u001b[38;5;28;01mreturn\u001b[39;00m op\u001b[38;5;241m.\u001b[39mget_result()\n",
      "File \u001b[0;32m/opt/homebrew/anaconda3/envs/capstone/lib/python3.9/site-packages/pandas/core/reshape/concat.py:448\u001b[0m, in \u001b[0;36m_Concatenator.__init__\u001b[0;34m(self, objs, axis, join, keys, levels, names, ignore_index, verify_integrity, copy, sort)\u001b[0m\n\u001b[1;32m    445\u001b[0m objs, keys \u001b[38;5;241m=\u001b[39m \u001b[38;5;28mself\u001b[39m\u001b[38;5;241m.\u001b[39m_clean_keys_and_objs(objs, keys)\n\u001b[1;32m    447\u001b[0m \u001b[38;5;66;03m# figure out what our result ndim is going to be\u001b[39;00m\n\u001b[0;32m--> 448\u001b[0m ndims \u001b[38;5;241m=\u001b[39m \u001b[38;5;28;43mself\u001b[39;49m\u001b[38;5;241;43m.\u001b[39;49m\u001b[43m_get_ndims\u001b[49m\u001b[43m(\u001b[49m\u001b[43mobjs\u001b[49m\u001b[43m)\u001b[49m\n\u001b[1;32m    449\u001b[0m sample, objs \u001b[38;5;241m=\u001b[39m \u001b[38;5;28mself\u001b[39m\u001b[38;5;241m.\u001b[39m_get_sample_object(objs, ndims, keys, names, levels)\n\u001b[1;32m    451\u001b[0m \u001b[38;5;66;03m# Standardize axis parameter to int\u001b[39;00m\n",
      "File \u001b[0;32m/opt/homebrew/anaconda3/envs/capstone/lib/python3.9/site-packages/pandas/core/reshape/concat.py:489\u001b[0m, in \u001b[0;36m_Concatenator._get_ndims\u001b[0;34m(self, objs)\u001b[0m\n\u001b[1;32m    484\u001b[0m     \u001b[38;5;28;01mif\u001b[39;00m \u001b[38;5;129;01mnot\u001b[39;00m \u001b[38;5;28misinstance\u001b[39m(obj, (ABCSeries, ABCDataFrame)):\n\u001b[1;32m    485\u001b[0m         msg \u001b[38;5;241m=\u001b[39m (\n\u001b[1;32m    486\u001b[0m             \u001b[38;5;124mf\u001b[39m\u001b[38;5;124m\"\u001b[39m\u001b[38;5;124mcannot concatenate object of type \u001b[39m\u001b[38;5;124m'\u001b[39m\u001b[38;5;132;01m{\u001b[39;00m\u001b[38;5;28mtype\u001b[39m(obj)\u001b[38;5;132;01m}\u001b[39;00m\u001b[38;5;124m'\u001b[39m\u001b[38;5;124m; \u001b[39m\u001b[38;5;124m\"\u001b[39m\n\u001b[1;32m    487\u001b[0m             \u001b[38;5;124m\"\u001b[39m\u001b[38;5;124monly Series and DataFrame objs are valid\u001b[39m\u001b[38;5;124m\"\u001b[39m\n\u001b[1;32m    488\u001b[0m         )\n\u001b[0;32m--> 489\u001b[0m         \u001b[38;5;28;01mraise\u001b[39;00m \u001b[38;5;167;01mTypeError\u001b[39;00m(msg)\n\u001b[1;32m    491\u001b[0m     ndims\u001b[38;5;241m.\u001b[39madd(obj\u001b[38;5;241m.\u001b[39mndim)\n\u001b[1;32m    492\u001b[0m \u001b[38;5;28;01mreturn\u001b[39;00m ndims\n",
      "\u001b[0;31mTypeError\u001b[0m: cannot concatenate object of type '<class 'str'>'; only Series and DataFrame objs are valid"
     ]
    }
   ],
   "source": [
    "a=pd.concat(b)"
   ]
  },
  {
   "cell_type": "code",
   "execution_count": null,
   "metadata": {},
   "outputs": [],
   "source": []
  }
 ],
 "metadata": {
  "kernelspec": {
   "display_name": "capstone",
   "language": "python",
   "name": "python3"
  },
  "language_info": {
   "codemirror_mode": {
    "name": "ipython",
    "version": 3
   },
   "file_extension": ".py",
   "mimetype": "text/x-python",
   "name": "python",
   "nbconvert_exporter": "python",
   "pygments_lexer": "ipython3",
   "version": "3.9.19"
  }
 },
 "nbformat": 4,
 "nbformat_minor": 2
}
