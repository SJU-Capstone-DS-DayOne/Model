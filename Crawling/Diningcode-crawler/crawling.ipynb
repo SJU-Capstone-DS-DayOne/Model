{
 "cells": [
  {
   "cell_type": "code",
   "execution_count": 16,
   "metadata": {},
   "outputs": [],
   "source": [
    "import selenium\n",
    "from selenium.webdriver.common.by import By\n",
    "from urllib3.util.retry import Retry\n",
    "from requests.adapters import HTTPAdapter\n",
    "from openpyxl import Workbook\n",
    "\n",
    "from bs4 import BeautifulSoup\n",
    "from selenium import webdriver\n",
    "from selenium.webdriver.common.keys import Keys\n",
    "from selenium.webdriver.support import expected_conditions as EC\n",
    "from selenium.webdriver.chrome.options import Options\n",
    "from selenium.webdriver.chrome.service import Service\n",
    "from webdriver_manager.chrome import ChromeDriverManager\n",
    "import pyautogui\n",
    "import mouseinfo\n",
    "\n",
    "import time\n",
    "import datetime\n",
    "import requests\n",
    "\n",
    "\n",
    "import os\n",
    "import pandas as pd\n",
    "from tqdm import tqdm"
   ]
  },
  {
   "cell_type": "code",
   "execution_count": 7,
   "metadata": {},
   "outputs": [],
   "source": []
  },
  {
   "cell_type": "code",
   "execution_count": 17,
   "metadata": {},
   "outputs": [],
   "source": [
    "url = \"https://www.diningcode.com/search.dc?query=\"\n",
    "places = [\"화양동\", \"군자동\", \"광장동\"]"
   ]
  },
  {
   "cell_type": "code",
   "execution_count": 19,
   "metadata": {},
   "outputs": [
    {
     "name": "stderr",
     "output_type": "stream",
     "text": [
      "/var/folders/9q/1dly5q8d5j9dmt8t1fwf05r80000gn/T/ipykernel_32125/412568665.py:16: DeprecationWarning: use options instead of chrome_options\n",
      "  driver = webdriver.Chrome(chrome_driver_path, chrome_options=options)\n"
     ]
    }
   ],
   "source": [
    "options = Options()\n",
    "# Chrome의 binary path 지정\n",
    "options.binary_location = (\n",
    "    \"/Users/powerjsv/Desktop/Google Chrome.app/Contents/MacOS/Google Chrome\"\n",
    ")\n",
    "\n",
    "# 불필요한 에러 메시지 삭제\n",
    "options.add_experimental_option(\"excludeSwitches\", [\"enable-logging\"])\n",
    "# # 최대화\n",
    "# options.add_argument('--start-maximized')\n",
    "\n",
    "chrome_driver_path = (\n",
    "    \"/Users/powerjsv/Desktop/project/capstone/chromedriver-mac-arm64/chromedriver\"\n",
    ")\n",
    "\n",
    "driver = webdriver.Chrome(chrome_driver_path, chrome_options=options)\n",
    "driver.implicitly_wait(2)"
   ]
  },
  {
   "cell_type": "code",
   "execution_count": 21,
   "metadata": {},
   "outputs": [
    {
     "name": "stdout",
     "output_type": "stream",
     "text": [
      "['D37222AB4BA3F27B90451FDEA61DD6AB']\n"
     ]
    }
   ],
   "source": [
    "for place in places:\n",
    "    # driver.get(url+place)\n",
    "    driver.get(url + \"화양동\")\n",
    "    xpath_view_more_search = '//*[@id=\"root\"]/div/main/div[2]/div[3]/div/a'\n",
    "    driver.find_element_by_xpath(xpath_view_more_search).click()\n",
    "    # 더보기로 옮김\n",
    "    tabs = driver.window_handles\n",
    "    print(tabs)\n",
    "\n",
    "    # 20개씩 5번 검색결과 더 보기 클릭\n",
    "    xpath_view_20_more = '//*[@id=\"map\"]/button[2]/span'\n",
    "    for _ in range(4):\n",
    "        driver.find_element_by_xpath(xpath_view_20_more).click()\n",
    "    break"
   ]
  },
  {
   "cell_type": "code",
   "execution_count": null,
   "metadata": {},
   "outputs": [],
   "source": [
    "restaurant_find_selector = \"#blockVQiGmI9FpV8f\"\n",
    "driver.find_element_by_css_selector(restaurant_find_selector)"
   ]
  }
 ],
 "metadata": {
  "kernelspec": {
   "display_name": "capstone",
   "language": "python",
   "name": "python3"
  },
  "language_info": {
   "codemirror_mode": {
    "name": "ipython",
    "version": 3
   },
   "file_extension": ".py",
   "mimetype": "text/x-python",
   "name": "python",
   "nbconvert_exporter": "python",
   "pygments_lexer": "ipython3",
   "version": "3.9.19"
  }
 },
 "nbformat": 4,
 "nbformat_minor": 2
}
