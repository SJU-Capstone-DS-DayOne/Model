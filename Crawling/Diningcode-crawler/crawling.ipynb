{
 "cells": [
  {
   "cell_type": "code",
   "execution_count": 16,
   "metadata": {},
   "outputs": [],
   "source": [
    "import selenium\n",
    "from selenium.webdriver.common.by import By\n",
    "from urllib3.util.retry import Retry\n",
    "from requests.adapters import HTTPAdapter\n",
    "from openpyxl import Workbook\n",
    "\n",
    "from bs4 import BeautifulSoup\n",
    "from selenium import webdriver\n",
    "from selenium.webdriver.common.keys import Keys\n",
    "from selenium.webdriver.support import expected_conditions as EC\n",
    "from selenium.webdriver.chrome.options import Options\n",
    "from selenium.webdriver.chrome.service import Service\n",
    "from webdriver_manager.chrome import ChromeDriverManager\n",
    "import pyautogui\n",
    "import mouseinfo\n",
    "\n",
    "import time\n",
    "import datetime\n",
    "import requests\n",
    "\n",
    "\n",
    "import os\n",
    "import pandas as pd\n",
    "from tqdm import tqdm"
   ]
  },
  {
   "cell_type": "code",
   "execution_count": 7,
   "metadata": {},
   "outputs": [],
   "source": []
  },
  {
   "cell_type": "code",
   "execution_count": 17,
   "metadata": {},
   "outputs": [],
   "source": [
    "url = \"https://www.diningcode.com/search.dc?query=\"\n",
    "places = [\"화양동\", \"군자동\", \"광장동\"]"
   ]
  },
  {
   "cell_type": "code",
   "execution_count": 61,
   "metadata": {},
   "outputs": [
    {
     "name": "stderr",
     "output_type": "stream",
     "text": [
      "/var/folders/9q/1dly5q8d5j9dmt8t1fwf05r80000gn/T/ipykernel_32125/412568665.py:16: DeprecationWarning: use options instead of chrome_options\n",
      "  driver = webdriver.Chrome(chrome_driver_path, chrome_options=options)\n"
     ]
    }
   ],
   "source": [
    "options = Options()\n",
    "# Chrome의 binary path 지정\n",
    "options.binary_location = (\n",
    "    \"/Users/powerjsv/Desktop/Google Chrome.app/Contents/MacOS/Google Chrome\"\n",
    ")\n",
    "\n",
    "# 불필요한 에러 메시지 삭제\n",
    "options.add_experimental_option(\"excludeSwitches\", [\"enable-logging\"])\n",
    "# # 최대화\n",
    "# options.add_argument('--start-maximized')\n",
    "\n",
    "chrome_driver_path = (\n",
    "    \"/Users/powerjsv/Desktop/project/capstone/chromedriver-mac-arm64/chromedriver\"\n",
    ")\n",
    "\n",
    "driver = webdriver.Chrome(chrome_driver_path, chrome_options=options)\n",
    "driver.implicitly_wait(2)"
   ]
  },
  {
   "cell_type": "code",
   "execution_count": 63,
   "metadata": {},
   "outputs": [
    {
     "name": "stdout",
     "output_type": "stream",
     "text": [
      "['8D4CF97A50622078CAE0897971EFCB43']\n",
      "['8D4CF97A50622078CAE0897971EFCB43', '95A362EB0C8481893C11ACA1D87B20F7', 'D8754ECBFE24D381166D23057D98CC5C', '57BBAC44C9E96ED7CEB340F5B2E7EEB2', '9F9B1F50ED6FE08FC696397CDB45895E', '146CEF068B0101C48BC3BBA45CB422DA', 'F554F8D8A54AD13FEAF44ABEAAC15469', 'A6219A222D9EC0C9E6193571A6760BF1', '7601CC2A5FE39980F06ED3AA7B4E92D2', 'AC3E57B6C1C1164868E725091B7F42E8', '126E3DB6FB41A12B1DAA49588F04517A']\n",
      "['8D4CF97A50622078CAE0897971EFCB43', '95A362EB0C8481893C11ACA1D87B20F7', 'D8754ECBFE24D381166D23057D98CC5C', '57BBAC44C9E96ED7CEB340F5B2E7EEB2', '9F9B1F50ED6FE08FC696397CDB45895E', '146CEF068B0101C48BC3BBA45CB422DA', 'F554F8D8A54AD13FEAF44ABEAAC15469', 'A6219A222D9EC0C9E6193571A6760BF1', '7601CC2A5FE39980F06ED3AA7B4E92D2', 'AC3E57B6C1C1164868E725091B7F42E8', '126E3DB6FB41A12B1DAA49588F04517A', '781F1F631CEECFC9C082D1F0BC527400', '7E04291FB5A716083EB2577E9ABB2E2E', '81D8553627140488FF853DACC8816D28', '5C1011130A37A13D1D5D5928EDC44C15', 'D794B7E1042722CB6232429BEF47D1C5', '37DA0956064A28A22A53354F16D76234', 'FD1802691F15355A3B433760A5EE496C', '9E7D50ABC51454AC5E6B1EDE100C6DEC', 'C22E063D3A9FA5637293B189ECF5C10C', '0FC524CB4FCC29780B5E56F0705E0F90']\n"
     ]
    }
   ],
   "source": [
    "for place in places:\n",
    "    # driver.get(url+place)\n",
    "    driver.get(url + \"화양동\")\n",
    "    xpath_view_more_search = '//*[@id=\"root\"]/div/main/div[2]/div[3]/div/a'\n",
    "    driver.find_element_by_xpath(xpath_view_more_search).click()\n",
    "    # 더보기로 옮김\n",
    "    tabs = driver.window_handles\n",
    "    print(tabs)\n",
    "\n",
    "    # 20개씩 5번 검색결과 더 보기 클릭\n",
    "    xpath_view_20_more = '//*[@id=\"map\"]/button[2]/span'\n",
    "    for _ in range(4):\n",
    "        driver.find_element_by_xpath(xpath_view_20_more).click()\n",
    "    \n",
    "    # 각각의 식당 클릭\n",
    "    cnt=0\n",
    "    restaurant_find_selector = \"div.RHeader > div > div.InfoHeader\"\n",
    "    for i in driver.find_elements(By.CSS_SELECTOR, restaurant_find_selector):\n",
    "        cnt+=1\n",
    "        i.click()\n",
    "        if cnt ==10:\n",
    "            break\n",
    "    break\n"
   ]
  },
  {
   "cell_type": "code",
   "execution_count": 50,
   "metadata": {},
   "outputs": [],
   "source": [
    "restaurant_find_selector = \"div.RHeader > div > div.InfoHeader\"\n",
    "for i in driver.find_elements(By.CSS_SELECTOR,restaurant_find_selector):\n",
    "    i.click()"
   ]
  },
  {
   "cell_type": "code",
   "execution_count": 47,
   "metadata": {},
   "outputs": [
    {
     "name": "stdout",
     "output_type": "stream",
     "text": [
      "['51883059BB3D2FBCDA02E2F3DD2B8112', 'C956702B0CE7497ECF29451FDB402754', 'C1E7F36FE680887742F95FF037AC994F']\n"
     ]
    }
   ],
   "source": [
    "tabs = driver.window_handles\n",
    "print(tabs)"
   ]
  },
  {
   "cell_type": "code",
   "execution_count": null,
   "metadata": {},
   "outputs": [],
   "source": []
  }
 ],
 "metadata": {
  "kernelspec": {
   "display_name": "capstone",
   "language": "python",
   "name": "python3"
  },
  "language_info": {
   "codemirror_mode": {
    "name": "ipython",
    "version": 3
   },
   "file_extension": ".py",
   "mimetype": "text/x-python",
   "name": "python",
   "nbconvert_exporter": "python",
   "pygments_lexer": "ipython3",
   "version": "3.9.19"
  }
 },
 "nbformat": 4,
 "nbformat_minor": 2
}
