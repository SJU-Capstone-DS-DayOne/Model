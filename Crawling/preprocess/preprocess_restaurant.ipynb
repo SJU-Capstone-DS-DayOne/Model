{
 "cells": [
  {
   "cell_type": "markdown",
   "metadata": {},
   "source": [
    "# 라이브러리 import"
   ]
  },
  {
   "cell_type": "code",
   "execution_count": 34,
   "metadata": {},
   "outputs": [],
   "source": [
    "import pandas as pd\n",
    "import os"
   ]
  },
  {
   "cell_type": "markdown",
   "metadata": {},
   "source": [
    "# 1. 유형별로 다 묶어서 광진구 음식점/광진구 카페/광진구 술집 만들기"
   ]
  },
  {
   "cell_type": "markdown",
   "metadata": {},
   "source": [
    "df_광진구_음식점 만들고\n",
    "모든 동에 대한 음식점만 불러와서\n",
    "df_광진구_음식점 아래에 쭉 추가해두기\n",
    "이후 Duplicate"
   ]
  },
  {
   "cell_type": "code",
   "execution_count": 35,
   "metadata": {},
   "outputs": [],
   "source": [
    "import pandas as pd\n",
    "import os\n",
    "\n",
    "def load_and_concatenate(base_path, category, dong_names):\n",
    "    \"\"\"\n",
    "    지정된 카테고리의 파일들을 읽어와서 하나의 데이터프레임으로 합치는 함수.\n",
    "    \n",
    "    :param base_path: 파일이 저장된 기본 경로\n",
    "    :param category: 데이터의 카테고리 (예: '음식점', '카페', '술집')\n",
    "    :param dong_names: 처리할 지역의 이름 리스트\n",
    "    :return: 합쳐진 데이터프레임\n",
    "    \"\"\"\n",
    "    # 파일 목록 생성\n",
    "    file_names = [f\"restaurant_{dong}_{category}_naver.csv\" for dong in dong_names]\n",
    "    \n",
    "    # 각 파일을 데이터프레임으로 읽어오고 하나의 리스트에 저장\n",
    "    dfs = []\n",
    "    for file_name in file_names:\n",
    "        file_path = os.path.join(base_path, file_name)\n",
    "        if os.path.exists(file_path):  # 파일이 실제로 존재하는지 확인\n",
    "            df = pd.read_csv(file_path)\n",
    "            dfs.append(df)\n",
    "    \n",
    "    # 모든 데이터프레임을 하나로 합침\n",
    "    concatenated_df = pd.concat(dfs, ignore_index=True) if dfs else pd.DataFrame()\n",
    "    \n",
    "    return concatenated_df\n",
    "\n",
    "# 경로 및 지역 이름 설정\n",
    "base_path = \"/Users/gimtaeho/Desktop/Crawl/Team-Model/Crawling/crawl_data/광진구\"\n",
    "dong_names = [\"광장동\", \"구의동\", \"군자동\", \"능동\", \"자양동\", \"중곡동\", \"화양동\"]\n",
    "\n",
    "# 각 카테고리에 대해 함수 호출\n",
    "df_광진구_음식점 = load_and_concatenate(base_path, \"음식점\", dong_names)\n",
    "df_광진구_카페 = load_and_concatenate(base_path, \"카페\", dong_names)\n",
    "df_광진구_술집 = load_and_concatenate(base_path, \"술집\", dong_names)"
   ]
  },
  {
   "cell_type": "code",
   "execution_count": 36,
   "metadata": {},
   "outputs": [
    {
     "name": "stdout",
     "output_type": "stream",
     "text": [
      "<class 'pandas.core.frame.DataFrame'>\n",
      "RangeIndex: 2104 entries, 0 to 2103\n",
      "Data columns (total 9 columns):\n",
      " #   Column         Non-Null Count  Dtype \n",
      "---  ------         --------------  ----- \n",
      " 0   Unnamed: 0     2104 non-null   int64 \n",
      " 1   name           2104 non-null   object\n",
      " 2   category       2104 non-null   int64 \n",
      " 3   sub_category   2103 non-null   object\n",
      " 4   address        2103 non-null   object\n",
      " 5   contact        2047 non-null   object\n",
      " 6   platform       2104 non-null   int64 \n",
      " 7   url            2104 non-null   object\n",
      " 8   opneing_hours  2104 non-null   object\n",
      "dtypes: int64(3), object(6)\n",
      "memory usage: 148.1+ KB\n"
     ]
    }
   ],
   "source": [
    "df_광진구_음식점.info()\n",
    "# 2104개\n",
    "# 광장동 300개\n",
    "# 구의동 300개\n",
    "# 군자동 300개\n",
    "# 능동 300개\n",
    "# 자양동 304개\n",
    "# 중곡동 300개\n",
    "# 화양동 300개\n"
   ]
  },
  {
   "cell_type": "code",
   "execution_count": 37,
   "metadata": {},
   "outputs": [
    {
     "name": "stdout",
     "output_type": "stream",
     "text": [
      "<class 'pandas.core.frame.DataFrame'>\n",
      "RangeIndex: 2084 entries, 0 to 2083\n",
      "Data columns (total 9 columns):\n",
      " #   Column         Non-Null Count  Dtype \n",
      "---  ------         --------------  ----- \n",
      " 0   Unnamed: 0     2084 non-null   int64 \n",
      " 1   name           2084 non-null   object\n",
      " 2   category       2084 non-null   int64 \n",
      " 3   sub_category   2084 non-null   object\n",
      " 4   address        2084 non-null   object\n",
      " 5   contact        1897 non-null   object\n",
      " 6   platform       2084 non-null   int64 \n",
      " 7   url            2084 non-null   object\n",
      " 8   opneing_hours  2084 non-null   object\n",
      "dtypes: int64(3), object(6)\n",
      "memory usage: 146.7+ KB\n"
     ]
    }
   ],
   "source": [
    "df_광진구_술집.info()"
   ]
  },
  {
   "cell_type": "code",
   "execution_count": 38,
   "metadata": {},
   "outputs": [
    {
     "name": "stdout",
     "output_type": "stream",
     "text": [
      "<class 'pandas.core.frame.DataFrame'>\n",
      "RangeIndex: 2115 entries, 0 to 2114\n",
      "Data columns (total 9 columns):\n",
      " #   Column         Non-Null Count  Dtype \n",
      "---  ------         --------------  ----- \n",
      " 0   Unnamed: 0     2115 non-null   int64 \n",
      " 1   name           2113 non-null   object\n",
      " 2   category       2115 non-null   int64 \n",
      " 3   sub_category   2113 non-null   object\n",
      " 4   address        2113 non-null   object\n",
      " 5   contact        1957 non-null   object\n",
      " 6   platform       2115 non-null   int64 \n",
      " 7   url            2115 non-null   object\n",
      " 8   opneing_hours  2115 non-null   object\n",
      "dtypes: int64(3), object(6)\n",
      "memory usage: 148.8+ KB\n"
     ]
    }
   ],
   "source": [
    "df_광진구_카페.info()"
   ]
  },
  {
   "cell_type": "markdown",
   "metadata": {},
   "source": [
    "# 2. 유형별 drop duplicated"
   ]
  },
  {
   "cell_type": "code",
   "execution_count": 39,
   "metadata": {},
   "outputs": [],
   "source": [
    "def remove_duplicates(df):\n",
    "    \"\"\"\n",
    "    데이터프레임에서 중복된 행을 제거하는 함수.\n",
    "    \n",
    "    :param df: 중복을 제거할 데이터프레임\n",
    "    :return: 중복이 제거된 새로운 데이터프레임\n",
    "    \"\"\"\n",
    "    # 중복된 행을 제거하고 새로운 데이터프레임 반환\n",
    "    return df.drop_duplicates(subset=['name', 'address'])\n",
    "\n",
    "# df_광진구_음식점, df_광진구_카페, df_광진구_술집에서 중복 행 제거\n",
    "df_광진구_음식점_cleaned = remove_duplicates(df_광진구_음식점)\n",
    "df_광진구_카페_cleaned = remove_duplicates(df_광진구_카페)\n",
    "df_광진구_술집_cleaned = remove_duplicates(df_광진구_술집)"
   ]
  },
  {
   "cell_type": "code",
   "execution_count": 40,
   "metadata": {},
   "outputs": [
    {
     "name": "stdout",
     "output_type": "stream",
     "text": [
      "<class 'pandas.core.frame.DataFrame'>\n",
      "Index: 1968 entries, 0 to 2103\n",
      "Data columns (total 9 columns):\n",
      " #   Column         Non-Null Count  Dtype \n",
      "---  ------         --------------  ----- \n",
      " 0   Unnamed: 0     1968 non-null   int64 \n",
      " 1   name           1968 non-null   object\n",
      " 2   category       1968 non-null   int64 \n",
      " 3   sub_category   1967 non-null   object\n",
      " 4   address        1967 non-null   object\n",
      " 5   contact        1911 non-null   object\n",
      " 6   platform       1968 non-null   int64 \n",
      " 7   url            1968 non-null   object\n",
      " 8   opneing_hours  1968 non-null   object\n",
      "dtypes: int64(3), object(6)\n",
      "memory usage: 153.8+ KB\n"
     ]
    }
   ],
   "source": [
    "df_광진구_음식점_cleaned.info()"
   ]
  },
  {
   "cell_type": "code",
   "execution_count": 41,
   "metadata": {},
   "outputs": [
    {
     "name": "stdout",
     "output_type": "stream",
     "text": [
      "<class 'pandas.core.frame.DataFrame'>\n",
      "Index: 1447 entries, 0 to 2113\n",
      "Data columns (total 9 columns):\n",
      " #   Column         Non-Null Count  Dtype \n",
      "---  ------         --------------  ----- \n",
      " 0   Unnamed: 0     1447 non-null   int64 \n",
      " 1   name           1446 non-null   object\n",
      " 2   category       1447 non-null   int64 \n",
      " 3   sub_category   1446 non-null   object\n",
      " 4   address        1446 non-null   object\n",
      " 5   contact        1299 non-null   object\n",
      " 6   platform       1447 non-null   int64 \n",
      " 7   url            1447 non-null   object\n",
      " 8   opneing_hours  1447 non-null   object\n",
      "dtypes: int64(3), object(6)\n",
      "memory usage: 113.0+ KB\n"
     ]
    }
   ],
   "source": [
    "df_광진구_카페_cleaned.info()"
   ]
  },
  {
   "cell_type": "code",
   "execution_count": 42,
   "metadata": {},
   "outputs": [
    {
     "name": "stdout",
     "output_type": "stream",
     "text": [
      "<class 'pandas.core.frame.DataFrame'>\n",
      "Index: 939 entries, 0 to 2048\n",
      "Data columns (total 9 columns):\n",
      " #   Column         Non-Null Count  Dtype \n",
      "---  ------         --------------  ----- \n",
      " 0   Unnamed: 0     939 non-null    int64 \n",
      " 1   name           939 non-null    object\n",
      " 2   category       939 non-null    int64 \n",
      " 3   sub_category   939 non-null    object\n",
      " 4   address        939 non-null    object\n",
      " 5   contact        805 non-null    object\n",
      " 6   platform       939 non-null    int64 \n",
      " 7   url            939 non-null    object\n",
      " 8   opneing_hours  939 non-null    object\n",
      "dtypes: int64(3), object(6)\n",
      "memory usage: 73.4+ KB\n"
     ]
    }
   ],
   "source": [
    "df_광진구_술집_cleaned.info()"
   ]
  },
  {
   "cell_type": "code",
   "execution_count": null,
   "metadata": {},
   "outputs": [],
   "source": []
  },
  {
   "cell_type": "markdown",
   "metadata": {},
   "source": [
    "# 3. 음식점에 있는 애들 sub_category 유니크 찍어서, 음식점인데 카페에 들어가있는애들 다 처리\n"
   ]
  },
  {
   "cell_type": "code",
   "execution_count": 43,
   "metadata": {},
   "outputs": [
    {
     "name": "stdout",
     "output_type": "stream",
     "text": [
      "<class 'pandas.core.frame.DataFrame'>\n",
      "Index: 1968 entries, 0 to 2103\n",
      "Data columns (total 9 columns):\n",
      " #   Column         Non-Null Count  Dtype \n",
      "---  ------         --------------  ----- \n",
      " 0   Unnamed: 0     1968 non-null   int64 \n",
      " 1   name           1968 non-null   object\n",
      " 2   category       1968 non-null   int64 \n",
      " 3   sub_category   1967 non-null   object\n",
      " 4   address        1967 non-null   object\n",
      " 5   contact        1911 non-null   object\n",
      " 6   platform       1968 non-null   int64 \n",
      " 7   url            1968 non-null   object\n",
      " 8   opneing_hours  1968 non-null   object\n",
      "dtypes: int64(3), object(6)\n",
      "memory usage: 153.8+ KB\n"
     ]
    }
   ],
   "source": [
    "df_광진구_음식점_cleaned.info()"
   ]
  },
  {
   "cell_type": "markdown",
   "metadata": {},
   "source": [
    "카페에 있는데, 음식점에도 있는 애 지우기"
   ]
  },
  {
   "cell_type": "code",
   "execution_count": 44,
   "metadata": {},
   "outputs": [
    {
     "name": "stdout",
     "output_type": "stream",
     "text": [
      "<class 'pandas.core.frame.DataFrame'>\n",
      "Index: 1536 entries, 0 to 2103\n",
      "Data columns (total 9 columns):\n",
      " #   Column         Non-Null Count  Dtype \n",
      "---  ------         --------------  ----- \n",
      " 0   Unnamed: 0     1536 non-null   int64 \n",
      " 1   name           1536 non-null   object\n",
      " 2   category       1536 non-null   int64 \n",
      " 3   sub_category   1535 non-null   object\n",
      " 4   address        1535 non-null   object\n",
      " 5   contact        1507 non-null   object\n",
      " 6   platform       1536 non-null   int64 \n",
      " 7   url            1536 non-null   object\n",
      " 8   opneing_hours  1536 non-null   object\n",
      "dtypes: int64(3), object(6)\n",
      "memory usage: 120.0+ KB\n"
     ]
    }
   ],
   "source": [
    "# 먼저, 두 데이터프레임을 merge하여 중복된 데이터를 찾음. 'name'과 'address' 열을 기준으로 내부 조인을 수행\n",
    "common = pd.merge(df_광진구_음식점_cleaned, df_광진구_카페_cleaned, on=['name', 'address'], how='inner')\n",
    "\n",
    "# 중복 데이터의 'name'과 'address'를 추출 (여기서는 모든 중복 행이 추출됨)\n",
    "# 고유 식별자가 없으므로, 직접 중복 조건을 만족하는 행을 찾아야 함\n",
    "\n",
    "# df_광진구_음식점_cleaned에서 중복된 행을 찾아 제거\n",
    "df_광진구_음식점_cleaned = df_광진구_음식점_cleaned[~df_광진구_음식점_cleaned.set_index(['name', 'address']).index.isin(common.set_index(['name', 'address']).index)]\n",
    "\n",
    "# 결과 확인\n",
    "df_광진구_음식점_cleaned.info()"
   ]
  },
  {
   "cell_type": "markdown",
   "metadata": {},
   "source": [
    "술집에 있는데, 음식점에도 있는 애 지우기"
   ]
  },
  {
   "cell_type": "code",
   "execution_count": 45,
   "metadata": {},
   "outputs": [
    {
     "name": "stdout",
     "output_type": "stream",
     "text": [
      "<class 'pandas.core.frame.DataFrame'>\n",
      "Index: 1257 entries, 0 to 2103\n",
      "Data columns (total 9 columns):\n",
      " #   Column         Non-Null Count  Dtype \n",
      "---  ------         --------------  ----- \n",
      " 0   Unnamed: 0     1257 non-null   int64 \n",
      " 1   name           1257 non-null   object\n",
      " 2   category       1257 non-null   int64 \n",
      " 3   sub_category   1256 non-null   object\n",
      " 4   address        1256 non-null   object\n",
      " 5   contact        1237 non-null   object\n",
      " 6   platform       1257 non-null   int64 \n",
      " 7   url            1257 non-null   object\n",
      " 8   opneing_hours  1257 non-null   object\n",
      "dtypes: int64(3), object(6)\n",
      "memory usage: 98.2+ KB\n"
     ]
    }
   ],
   "source": [
    "\n",
    "# 먼저, 두 데이터프레임을 merge하여 중복된 데이터를 찾음. 'name'과 'address' 열을 기준으로 내부 조인을 수행\n",
    "common = pd.merge(df_광진구_음식점_cleaned, df_광진구_술집_cleaned, on=['name', 'address'], how='inner')\n",
    "\n",
    "# 중복 데이터의 'name'과 'address'를 추출 (여기서는 모든 중복 행이 추출됨)\n",
    "# 고유 식별자가 없으므로, 직접 중복 조건을 만족하는 행을 찾아야 함\n",
    "\n",
    "# df_광진구_음식점_cleaned에서 중복된 행을 찾아 제거\n",
    "df_광진구_음식점_cleaned = df_광진구_음식점_cleaned[~df_광진구_음식점_cleaned.set_index(['name', 'address']).index.isin(common.set_index(['name', 'address']).index)]\n",
    "\n",
    "# 결과 확인\n",
    "df_광진구_음식점_cleaned.info()"
   ]
  },
  {
   "cell_type": "markdown",
   "metadata": {},
   "source": [
    "술집에 있는데, 카페에도 있는 애 지우기"
   ]
  },
  {
   "cell_type": "code",
   "execution_count": 46,
   "metadata": {},
   "outputs": [
    {
     "name": "stdout",
     "output_type": "stream",
     "text": [
      "<class 'pandas.core.frame.DataFrame'>\n",
      "Index: 1446 entries, 0 to 2113\n",
      "Data columns (total 9 columns):\n",
      " #   Column         Non-Null Count  Dtype \n",
      "---  ------         --------------  ----- \n",
      " 0   Unnamed: 0     1446 non-null   int64 \n",
      " 1   name           1445 non-null   object\n",
      " 2   category       1446 non-null   int64 \n",
      " 3   sub_category   1445 non-null   object\n",
      " 4   address        1445 non-null   object\n",
      " 5   contact        1298 non-null   object\n",
      " 6   platform       1446 non-null   int64 \n",
      " 7   url            1446 non-null   object\n",
      " 8   opneing_hours  1446 non-null   object\n",
      "dtypes: int64(3), object(6)\n",
      "memory usage: 113.0+ KB\n"
     ]
    }
   ],
   "source": [
    "# 먼저, 두 데이터프레임을 merge하여 중복된 데이터를 찾음. 'name'과 'address' 열을 기준으로 내부 조인을 수행\n",
    "common = pd.merge(df_광진구_카페_cleaned, df_광진구_술집_cleaned, on=['name', 'address'], how='inner')\n",
    "\n",
    "# 중복 데이터의 'name'과 'address'를 추출 (여기서는 모든 중복 행이 추출됨)\n",
    "# 고유 식별자가 없으므로, 직접 중복 조건을 만족하는 행을 찾아야 함\n",
    "\n",
    "# df_광진구_음식점_cleaned에서 중복된 행을 찾아 제거\n",
    "df_광진구_카페_cleaned = df_광진구_카페_cleaned[~df_광진구_카페_cleaned.set_index(['name', 'address']).index.isin(common.set_index(['name', 'address']).index)]\n",
    "\n",
    "# 결과 확인\n",
    "df_광진구_카페_cleaned.info()"
   ]
  },
  {
   "cell_type": "code",
   "execution_count": 47,
   "metadata": {},
   "outputs": [
    {
     "data": {
      "text/plain": [
       "0"
      ]
     },
     "execution_count": 47,
     "metadata": {},
     "output_type": "execute_result"
    }
   ],
   "source": [
    "# 각 데이터프레임을 'name'과 'address'로 결합하여 중복을 식별할 준비\n",
    "combined_df = pd.concat([df_광진구_음식점_cleaned.assign(source='음식점'),\n",
    "                         df_광진구_카페_cleaned.assign(source='카페'),\n",
    "                         df_광진구_술집_cleaned.assign(source='술집')])\n",
    "\n",
    "# 'name'과 'address'를 기준으로 그룹화하고, 각 그룹에 대해 고유한 'source'의 개수를 계산\n",
    "grouped = combined_df.groupby(['name', 'address'])['source'].nunique()\n",
    "\n",
    "# 두 개 이상의 데이터프레임에 동시에 있는 데이터의 개수를 찾음\n",
    "multi_source_count = grouped[grouped >= 2].count()\n",
    "\n",
    "multi_source_count"
   ]
  },
  {
   "cell_type": "markdown",
   "metadata": {},
   "source": [
    "# 중간점검"
   ]
  },
  {
   "cell_type": "code",
   "execution_count": 48,
   "metadata": {},
   "outputs": [
    {
     "data": {
      "text/plain": [
       "array(['중식당', '피자', '뷔페', '육류,고기요리', '해물,생선요리', '냉면', '떡볶이', '찌개,전골',\n",
       "       '한식', '일식당', '채식,샐러드뷔페', '순대,순댓국', '곰탕,설렁탕', '양식', '이탈리아음식', '햄버거',\n",
       "       '복어요리', '초밥,롤', '샤브샤브', '국수', '닭요리', '분식', '우동,소바', '돼지고기구이',\n",
       "       '백숙,삼계탕', '두부요리', '종합분식', '칼국수,만두', '정육식당', '치킨,닭강정', '전,빈대떡',\n",
       "       '33떡볶이', '다이어트,샐러드', '죽', '오리요리', '토스트', '족발,보쌈', '베트남음식', '소고기구이',\n",
       "       '멕시코,남미음식', '낙지요리', '곱창,막창,양', '김밥', '만두', '양갈비', '감자탕', '돈가스',\n",
       "       '추어탕', '샌드위치', '닭볶음탕', '덮밥', '찜닭', '밀키트', '생선구이', '푸드트럭', '양꼬치',\n",
       "       '아시아음식', '보리밥', '갈비탕', '이북음식', '닭발', '스파게티,파스타전문', '조개요리',\n",
       "       '패밀리레스토랑', '독일음식', '한정식-일반', '닭갈비', '아귀찜,해물찜', '일본식라면', '태국음식',\n",
       "       '생선회', '막국수', '주꾸미요리', '장어,먹장어요리', '국밥', '마라탕', '호떡', '핫도그',\n",
       "       '딤섬,중식만두', '카레', '백반,가정식', '해장국', '밀크밥버거', '퓨전음식', '도시락,컵밥',\n",
       "       '터키음식', '신의주부대찌개', '야식', '푸드코트', '일식,초밥뷔페', '기사식당', '인도음식',\n",
       "       '프랑스음식', '비빔밥', nan, '게요리', '굴요리', '매운탕,해물탕', '스테이크,립', '일식튀김,꼬치'],\n",
       "      dtype=object)"
      ]
     },
     "execution_count": 48,
     "metadata": {},
     "output_type": "execute_result"
    }
   ],
   "source": [
    "df_광진구_음식점_cleaned['sub_category'].unique()"
   ]
  },
  {
   "cell_type": "code",
   "execution_count": 49,
   "metadata": {},
   "outputs": [
    {
     "data": {
      "text/plain": [
       "array(['베이글', '갤러리카페', '베이커리', '카페', '카페,디저트', '브런치', '아이스크림', '도넛',\n",
       "       '북카페', '호두과자', '과일,주스전문점', '테마카페', '케이크전문', '브런치카페', '빙수', '차',\n",
       "       '테이크아웃커피', '와플', '다방', '라이브카페', '떡카페', '바나프레소', '플라워카페', '초콜릿전문점',\n",
       "       '크레페', '홍차전문점'], dtype=object)"
      ]
     },
     "execution_count": 49,
     "metadata": {},
     "output_type": "execute_result"
    }
   ],
   "source": [
    "# 스터디카페 삭제\n",
    "df_광진구_카페_cleaned = df_광진구_카페_cleaned[df_광진구_카페_cleaned['sub_category'] != '스터디카페']\n",
    "# nan 인 애들 1개밖에 없어서 삭제함\n",
    "df_광진구_카페_cleaned = df_광진구_카페_cleaned.dropna(subset=['sub_category'])\n",
    "\n",
    "df_광진구_카페_cleaned['sub_category'].unique()"
   ]
  },
  {
   "cell_type": "code",
   "execution_count": 50,
   "metadata": {},
   "outputs": [
    {
     "data": {
      "text/plain": [
       "array(['요리주점', '바(BAR)', '와인', '맥주,호프', '단란주점', '이자카야', '포장마차', '술집',\n",
       "       '전통,민속주점', '국수', '오뎅,꼬치', '유흥주점', '육류,고기요리', '생선회', '한식',\n",
       "       '장어,먹장어요리', '일식튀김,꼬치', '곱창,막창,양', '소고기구이', '해장국', '양식', '조개요리',\n",
       "       '카페,디저트', '치킨,닭강정', '족발,보쌈', '일식당'], dtype=object)"
      ]
     },
     "execution_count": 50,
     "metadata": {},
     "output_type": "execute_result"
    }
   ],
   "source": [
    "df_광진구_술집_cleaned['sub_category'].unique()"
   ]
  },
  {
   "cell_type": "markdown",
   "metadata": {},
   "source": [
    "# 4. 해당 구에 해당되지 않는 애들 전부 삭제"
   ]
  },
  {
   "cell_type": "code",
   "execution_count": 51,
   "metadata": {},
   "outputs": [],
   "source": [
    "# 안해도 될 것으로 예상"
   ]
  },
  {
   "cell_type": "markdown",
   "metadata": {},
   "source": [
    "# 5. 데이터 다운로드"
   ]
  },
  {
   "cell_type": "code",
   "execution_count": 52,
   "metadata": {},
   "outputs": [],
   "source": [
    "# 첫번째 열 삭제\n",
    "df_광진구_음식점_cleaned = df_광진구_음식점_cleaned.iloc[:, 1:]\n",
    "df_광진구_카페_cleaned = df_광진구_카페_cleaned.iloc[:, 1:]\n",
    "df_광진구_술집_cleaned = df_광진구_술집_cleaned.iloc[:, 1:]"
   ]
  },
  {
   "cell_type": "code",
   "execution_count": 53,
   "metadata": {},
   "outputs": [],
   "source": [
    "df_광진구_음식점_cleaned.dropna(subset=['address'], inplace=True)\n",
    "df_광진구_음식점_cleaned = df_광진구_음식점_cleaned[df_광진구_음식점_cleaned['address'].str.contains('광진구')]\n",
    "df_광진구_카페_cleaned = df_광진구_카페_cleaned[df_광진구_카페_cleaned['address'].str.contains('광진구')]\n",
    "df_광진구_술집_cleaned = df_광진구_술집_cleaned[df_광진구_술집_cleaned['address'].str.contains('광진구')]"
   ]
  },
  {
   "cell_type": "code",
   "execution_count": 54,
   "metadata": {},
   "outputs": [
    {
     "name": "stdout",
     "output_type": "stream",
     "text": [
      "<class 'pandas.core.frame.DataFrame'>\n",
      "Index: 1239 entries, 0 to 2103\n",
      "Data columns (total 8 columns):\n",
      " #   Column         Non-Null Count  Dtype \n",
      "---  ------         --------------  ----- \n",
      " 0   name           1239 non-null   object\n",
      " 1   category       1239 non-null   int64 \n",
      " 2   sub_category   1239 non-null   object\n",
      " 3   address        1239 non-null   object\n",
      " 4   contact        1220 non-null   object\n",
      " 5   platform       1239 non-null   int64 \n",
      " 6   url            1239 non-null   object\n",
      " 7   opneing_hours  1239 non-null   object\n",
      "dtypes: int64(2), object(6)\n",
      "memory usage: 87.1+ KB\n"
     ]
    }
   ],
   "source": [
    "df_광진구_음식점_cleaned.info()"
   ]
  },
  {
   "cell_type": "code",
   "execution_count": 55,
   "metadata": {},
   "outputs": [
    {
     "name": "stdout",
     "output_type": "stream",
     "text": [
      "<class 'pandas.core.frame.DataFrame'>\n",
      "Index: 1241 entries, 0 to 2041\n",
      "Data columns (total 8 columns):\n",
      " #   Column         Non-Null Count  Dtype \n",
      "---  ------         --------------  ----- \n",
      " 0   name           1241 non-null   object\n",
      " 1   category       1241 non-null   int64 \n",
      " 2   sub_category   1241 non-null   object\n",
      " 3   address        1241 non-null   object\n",
      " 4   contact        1103 non-null   object\n",
      " 5   platform       1241 non-null   int64 \n",
      " 6   url            1241 non-null   object\n",
      " 7   opneing_hours  1241 non-null   object\n",
      "dtypes: int64(2), object(6)\n",
      "memory usage: 87.3+ KB\n"
     ]
    }
   ],
   "source": [
    "df_광진구_카페_cleaned.info()"
   ]
  },
  {
   "cell_type": "code",
   "execution_count": 56,
   "metadata": {},
   "outputs": [
    {
     "name": "stdout",
     "output_type": "stream",
     "text": [
      "<class 'pandas.core.frame.DataFrame'>\n",
      "Index: 718 entries, 0 to 2048\n",
      "Data columns (total 8 columns):\n",
      " #   Column         Non-Null Count  Dtype \n",
      "---  ------         --------------  ----- \n",
      " 0   name           718 non-null    object\n",
      " 1   category       718 non-null    int64 \n",
      " 2   sub_category   718 non-null    object\n",
      " 3   address        718 non-null    object\n",
      " 4   contact        603 non-null    object\n",
      " 5   platform       718 non-null    int64 \n",
      " 6   url            718 non-null    object\n",
      " 7   opneing_hours  718 non-null    object\n",
      "dtypes: int64(2), object(6)\n",
      "memory usage: 50.5+ KB\n"
     ]
    }
   ],
   "source": [
    "df_광진구_술집_cleaned.info()"
   ]
  },
  {
   "cell_type": "code",
   "execution_count": 59,
   "metadata": {},
   "outputs": [],
   "source": [
    "# CSV 파일로 저장\n",
    "df_광진구_음식점_cleaned.to_csv('/Users/gimtaeho/Desktop/Crawl/Team-Model/Crawling/preprocess/preprocessed_data/광진구/df_광진구_음식점_cleaned.csv', index=False)\n",
    "df_광진구_카페_cleaned.to_csv('/Users/gimtaeho/Desktop/Crawl/Team-Model/Crawling/preprocess/preprocessed_data/광진구/df_광진구_카페_cleaned.csv', index=False)\n",
    "df_광진구_술집_cleaned.to_csv('/Users/gimtaeho/Desktop/Crawl/Team-Model/Crawling/preprocess/preprocessed_data/광진구/df_광진구_술집_cleaned.csv', index=False)"
   ]
  }
 ],
 "metadata": {
  "kernelspec": {
   "display_name": "Python 3",
   "language": "python",
   "name": "python3"
  },
  "language_info": {
   "codemirror_mode": {
    "name": "ipython",
    "version": 3
   },
   "file_extension": ".py",
   "mimetype": "text/x-python",
   "name": "python",
   "nbconvert_exporter": "python",
   "pygments_lexer": "ipython3",
   "version": "3.9.6"
  }
 },
 "nbformat": 4,
 "nbformat_minor": 2
}
