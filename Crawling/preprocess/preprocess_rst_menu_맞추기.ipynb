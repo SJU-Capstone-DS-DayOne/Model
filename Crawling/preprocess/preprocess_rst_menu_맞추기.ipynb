{
 "cells": [
  {
   "cell_type": "code",
   "execution_count": 1,
   "metadata": {},
   "outputs": [],
   "source": [
    "import pandas as pd"
   ]
  },
  {
   "cell_type": "code",
   "execution_count": 2,
   "metadata": {},
   "outputs": [],
   "source": [
    "path_cleaned =\"./data/\"\n",
    "categorys = ['음식점', '카페', '술집']"
   ]
  },
  {
   "cell_type": "markdown",
   "metadata": {},
   "source": [
    "함수화"
   ]
  },
  {
   "cell_type": "code",
   "execution_count": 22,
   "metadata": {},
   "outputs": [],
   "source": [
    "def refined_rst_with_menu(df_rst, df_menu, category):\n",
    "    pre = len(df_rst)\n",
    "    print(f\"최신화 전 {category} 테이블 개수 =\", pre)\n",
    "\n",
    "    munique_rst = list(df_menu['rst_name'].unique())\n",
    "    filtered_df = df_rst[df_rst['name'].isin(munique_rst)]\n",
    "\n",
    "    after = len(filtered_df)\n",
    "    print(f\"최신화 후 {category} 테이블 개수 =\", after)\n",
    "    print(\"Drop된 식당의 개수 =\", pre - after)\n",
    "    print(\"=\" *50)\n",
    "    print()\n",
    "\n",
    "    return filtered_df"
   ]
  },
  {
   "cell_type": "code",
   "execution_count": 24,
   "metadata": {},
   "outputs": [
    {
     "name": "stdout",
     "output_type": "stream",
     "text": [
      "최신화 전 음식점 테이블 개수 = 1239\n",
      "최신화 후 음식점 테이블 개수 = 937\n",
      "Drop된 식당의 개수 = 302\n",
      "==================================================\n",
      "\n",
      "최신화 전 카페 테이블 개수 = 1241\n",
      "최신화 후 카페 테이블 개수 = 686\n",
      "Drop된 식당의 개수 = 555\n",
      "==================================================\n",
      "\n",
      "최신화 전 술집 테이블 개수 = 718\n",
      "최신화 후 술집 테이블 개수 = 429\n",
      "Drop된 식당의 개수 = 289\n",
      "==================================================\n",
      "\n"
     ]
    }
   ],
   "source": [
    "for category in categorys:\n",
    "    df_rst = pd.read_csv(path_cleaned + f\"df_광진구{category}_cleaned.csv\", encoding='utf-8-sig')\n",
    "    df_menu = pd.read_csv(path_cleaned + f\"restaurant_menu_광진구{category}.csv\", encoding='utf-8-sig')\n",
    "\n",
    "    df_refined = refined_rst_with_menu(df_rst, df_menu, category)\n",
    "\n",
    "    df_refined.to_csv(path_cleaned + f\"restaurant_광진구_{category}.csv\", encoding='utf-8-sig', index=False)"
   ]
  }
 ],
 "metadata": {
  "kernelspec": {
   "display_name": "Python 3",
   "language": "python",
   "name": "python3"
  },
  "language_info": {
   "codemirror_mode": {
    "name": "ipython",
    "version": 3
   },
   "file_extension": ".py",
   "mimetype": "text/x-python",
   "name": "python",
   "nbconvert_exporter": "python",
   "pygments_lexer": "ipython3",
   "version": "3.11.5"
  }
 },
 "nbformat": 4,
 "nbformat_minor": 2
}
