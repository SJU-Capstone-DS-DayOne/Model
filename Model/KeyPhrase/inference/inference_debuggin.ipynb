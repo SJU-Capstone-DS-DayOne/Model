{
 "cells": [
  {
   "cell_type": "markdown",
   "metadata": {},
   "source": [
    "### 로직\n",
    "\n",
    "1. 리뷰 preproecess하고 선별\n",
    "2. 선별된 리뷰 document로 뭉침\n",
    "3. 키버트 돌림\n",
    "4. 감성 분석 돌림\n",
    "5. 최종 랭킹을 메뉴판과 매칭"
   ]
  },
  {
   "cell_type": "markdown",
   "metadata": {},
   "source": [
    "### Setting"
   ]
  },
  {
   "cell_type": "code",
   "execution_count": 1,
   "metadata": {},
   "outputs": [],
   "source": [
    "import pandas as pd"
   ]
  },
  {
   "cell_type": "code",
   "execution_count": 2,
   "metadata": {},
   "outputs": [],
   "source": [
    "path = \"./data/\"\n",
    "\n",
    "rst = pd.read_csv(path + \"restaurant.csv\", encoding='utf-8-sig')\n",
    "menu = pd.read_csv(path + \"menu.csv\", encoding='utf-8-sig')\n",
    "rev = pd.read_csv(path + \"review.csv\", encoding='utf-8-sig')"
   ]
  },
  {
   "cell_type": "code",
   "execution_count": 3,
   "metadata": {},
   "outputs": [
    {
     "data": {
      "text/html": [
       "<div>\n",
       "<style scoped>\n",
       "    .dataframe tbody tr th:only-of-type {\n",
       "        vertical-align: middle;\n",
       "    }\n",
       "\n",
       "    .dataframe tbody tr th {\n",
       "        vertical-align: top;\n",
       "    }\n",
       "\n",
       "    .dataframe thead th {\n",
       "        text-align: right;\n",
       "    }\n",
       "</style>\n",
       "<table border=\"1\" class=\"dataframe\">\n",
       "  <thead>\n",
       "    <tr style=\"text-align: right;\">\n",
       "      <th></th>\n",
       "      <th>restaurant_id</th>\n",
       "      <th>address</th>\n",
       "      <th>name</th>\n",
       "      <th>opening_hours</th>\n",
       "      <th>phone</th>\n",
       "      <th>type</th>\n",
       "      <th>category</th>\n",
       "      <th>lat</th>\n",
       "      <th>lng</th>\n",
       "      <th>review_count</th>\n",
       "      <th>created_at</th>\n",
       "      <th>updated_at</th>\n",
       "      <th>summary</th>\n",
       "    </tr>\n",
       "  </thead>\n",
       "  <tbody>\n",
       "    <tr>\n",
       "      <th>0</th>\n",
       "      <td>0</td>\n",
       "      <td>서울 광진구 광장로 58-1 1층</td>\n",
       "      <td>범가</td>\n",
       "      <td>[]</td>\n",
       "      <td>010-3627-7041</td>\n",
       "      <td>0</td>\n",
       "      <td>중식당</td>\n",
       "      <td>NaN</td>\n",
       "      <td>NaN</td>\n",
       "      <td>NaN</td>\n",
       "      <td>NaN</td>\n",
       "      <td>NaN</td>\n",
       "      <td>NaN</td>\n",
       "    </tr>\n",
       "    <tr>\n",
       "      <th>1</th>\n",
       "      <td>1</td>\n",
       "      <td>서울 광진구 워커힐로 177 워커힐 호텔앤리조트</td>\n",
       "      <td>비스타 워커힐 서울 피자힐</td>\n",
       "      <td>[]</td>\n",
       "      <td>02-6330-9020</td>\n",
       "      <td>0</td>\n",
       "      <td>피자</td>\n",
       "      <td>NaN</td>\n",
       "      <td>NaN</td>\n",
       "      <td>NaN</td>\n",
       "      <td>NaN</td>\n",
       "      <td>NaN</td>\n",
       "      <td>NaN</td>\n",
       "    </tr>\n",
       "    <tr>\n",
       "      <th>2</th>\n",
       "      <td>2</td>\n",
       "      <td>서울 광진구 워커힐로 177 비스타 워커힐 서울 1층</td>\n",
       "      <td>비스타 워커힐 서울 더뷔페</td>\n",
       "      <td>[]</td>\n",
       "      <td>02-6330-9015</td>\n",
       "      <td>0</td>\n",
       "      <td>뷔페</td>\n",
       "      <td>NaN</td>\n",
       "      <td>NaN</td>\n",
       "      <td>NaN</td>\n",
       "      <td>NaN</td>\n",
       "      <td>NaN</td>\n",
       "      <td>NaN</td>\n",
       "    </tr>\n",
       "  </tbody>\n",
       "</table>\n",
       "</div>"
      ],
      "text/plain": [
       "   restaurant_id                        address            name opening_hours   \n",
       "0              0             서울 광진구 광장로 58-1 1층              범가            []  \\\n",
       "1              1     서울 광진구 워커힐로 177 워커힐 호텔앤리조트  비스타 워커힐 서울 피자힐            []   \n",
       "2              2  서울 광진구 워커힐로 177 비스타 워커힐 서울 1층  비스타 워커힐 서울 더뷔페            []   \n",
       "\n",
       "           phone  type category  lat  lng  review_count  created_at   \n",
       "0  010-3627-7041     0      중식당  NaN  NaN           NaN         NaN  \\\n",
       "1   02-6330-9020     0       피자  NaN  NaN           NaN         NaN   \n",
       "2   02-6330-9015     0       뷔페  NaN  NaN           NaN         NaN   \n",
       "\n",
       "   updated_at  summary  \n",
       "0         NaN      NaN  \n",
       "1         NaN      NaN  \n",
       "2         NaN      NaN  "
      ]
     },
     "execution_count": 3,
     "metadata": {},
     "output_type": "execute_result"
    }
   ],
   "source": [
    "rst.head(3)"
   ]
  },
  {
   "cell_type": "code",
   "execution_count": 4,
   "metadata": {},
   "outputs": [
    {
     "data": {
      "text/plain": [
       "3165"
      ]
     },
     "execution_count": 4,
     "metadata": {},
     "output_type": "execute_result"
    }
   ],
   "source": [
    "rst['restaurant_id'].nunique()"
   ]
  },
  {
   "cell_type": "code",
   "execution_count": 5,
   "metadata": {},
   "outputs": [
    {
     "data": {
      "text/html": [
       "<div>\n",
       "<style scoped>\n",
       "    .dataframe tbody tr th:only-of-type {\n",
       "        vertical-align: middle;\n",
       "    }\n",
       "\n",
       "    .dataframe tbody tr th {\n",
       "        vertical-align: top;\n",
       "    }\n",
       "\n",
       "    .dataframe thead th {\n",
       "        text-align: right;\n",
       "    }\n",
       "</style>\n",
       "<table border=\"1\" class=\"dataframe\">\n",
       "  <thead>\n",
       "    <tr style=\"text-align: right;\">\n",
       "      <th></th>\n",
       "      <th>menu_id</th>\n",
       "      <th>price</th>\n",
       "      <th>restaurant_id</th>\n",
       "      <th>name</th>\n",
       "      <th>ranking</th>\n",
       "      <th>created_at</th>\n",
       "      <th>updated_at</th>\n",
       "      <th>image_url</th>\n",
       "    </tr>\n",
       "  </thead>\n",
       "  <tbody>\n",
       "    <tr>\n",
       "      <th>0</th>\n",
       "      <td>0</td>\n",
       "      <td>45000</td>\n",
       "      <td>4</td>\n",
       "      <td>새조개 샤브샤브</td>\n",
       "      <td>NaN</td>\n",
       "      <td>NaN</td>\n",
       "      <td>NaN</td>\n",
       "      <td>NaN</td>\n",
       "    </tr>\n",
       "    <tr>\n",
       "      <th>1</th>\n",
       "      <td>1</td>\n",
       "      <td>45000</td>\n",
       "      <td>4</td>\n",
       "      <td>하모 샤브샤브</td>\n",
       "      <td>NaN</td>\n",
       "      <td>NaN</td>\n",
       "      <td>NaN</td>\n",
       "      <td>NaN</td>\n",
       "    </tr>\n",
       "    <tr>\n",
       "      <th>2</th>\n",
       "      <td>2</td>\n",
       "      <td>10000</td>\n",
       "      <td>4</td>\n",
       "      <td>매생이굴국밥</td>\n",
       "      <td>NaN</td>\n",
       "      <td>NaN</td>\n",
       "      <td>NaN</td>\n",
       "      <td>NaN</td>\n",
       "    </tr>\n",
       "  </tbody>\n",
       "</table>\n",
       "</div>"
      ],
      "text/plain": [
       "   menu_id  price  restaurant_id      name  ranking  created_at  updated_at   \n",
       "0        0  45000              4  새조개 샤브샤브      NaN         NaN         NaN  \\\n",
       "1        1  45000              4   하모 샤브샤브      NaN         NaN         NaN   \n",
       "2        2  10000              4    매생이굴국밥      NaN         NaN         NaN   \n",
       "\n",
       "   image_url  \n",
       "0        NaN  \n",
       "1        NaN  \n",
       "2        NaN  "
      ]
     },
     "execution_count": 5,
     "metadata": {},
     "output_type": "execute_result"
    }
   ],
   "source": [
    "menu.head(3)"
   ]
  },
  {
   "cell_type": "code",
   "execution_count": 6,
   "metadata": {},
   "outputs": [
    {
     "data": {
      "text/plain": [
       "2029"
      ]
     },
     "execution_count": 6,
     "metadata": {},
     "output_type": "execute_result"
    }
   ],
   "source": [
    "menu['restaurant_id'].nunique()"
   ]
  },
  {
   "cell_type": "code",
   "execution_count": 7,
   "metadata": {},
   "outputs": [
    {
     "data": {
      "text/html": [
       "<div>\n",
       "<style scoped>\n",
       "    .dataframe tbody tr th:only-of-type {\n",
       "        vertical-align: middle;\n",
       "    }\n",
       "\n",
       "    .dataframe tbody tr th {\n",
       "        vertical-align: top;\n",
       "    }\n",
       "\n",
       "    .dataframe thead th {\n",
       "        text-align: right;\n",
       "    }\n",
       "</style>\n",
       "<table border=\"1\" class=\"dataframe\">\n",
       "  <thead>\n",
       "    <tr style=\"text-align: right;\">\n",
       "      <th></th>\n",
       "      <th>review_id</th>\n",
       "      <th>created_at</th>\n",
       "      <th>user_id</th>\n",
       "      <th>restaurant_id</th>\n",
       "      <th>content</th>\n",
       "      <th>updated_at</th>\n",
       "    </tr>\n",
       "  </thead>\n",
       "  <tbody>\n",
       "    <tr>\n",
       "      <th>0</th>\n",
       "      <td>0</td>\n",
       "      <td>4.2.화</td>\n",
       "      <td>0</td>\n",
       "      <td>0</td>\n",
       "      <td>✨마늘후레이크 찹쌀탕수육 맛보러 가야하는 범가 ✨ 지인이 여기 탕수육 맛있다고 해서...</td>\n",
       "      <td>NaN</td>\n",
       "    </tr>\n",
       "    <tr>\n",
       "      <th>1</th>\n",
       "      <td>1</td>\n",
       "      <td>3.11.월</td>\n",
       "      <td>1</td>\n",
       "      <td>0</td>\n",
       "      <td>광나루역맛집 범가에서 마늘찹쌀탕수육 해물짬뽕 해물짜장 먹고 왔어요! 양도 정말 푸짐...</td>\n",
       "      <td>NaN</td>\n",
       "    </tr>\n",
       "    <tr>\n",
       "      <th>2</th>\n",
       "      <td>2</td>\n",
       "      <td>2.9.금</td>\n",
       "      <td>2</td>\n",
       "      <td>0</td>\n",
       "      <td>&lt;스티브 추천&gt;  마늘 후레이크 탕수육이 유명하죠.  근데 이번에 알았어요. 여기 ...</td>\n",
       "      <td>NaN</td>\n",
       "    </tr>\n",
       "  </tbody>\n",
       "</table>\n",
       "</div>"
      ],
      "text/plain": [
       "   review_id created_at  user_id  restaurant_id   \n",
       "0          0      4.2.화        0              0  \\\n",
       "1          1     3.11.월        1              0   \n",
       "2          2      2.9.금        2              0   \n",
       "\n",
       "                                             content  updated_at  \n",
       "0  ✨마늘후레이크 찹쌀탕수육 맛보러 가야하는 범가 ✨ 지인이 여기 탕수육 맛있다고 해서...         NaN  \n",
       "1  광나루역맛집 범가에서 마늘찹쌀탕수육 해물짬뽕 해물짜장 먹고 왔어요! 양도 정말 푸짐...         NaN  \n",
       "2  <스티브 추천>  마늘 후레이크 탕수육이 유명하죠.  근데 이번에 알았어요. 여기 ...         NaN  "
      ]
     },
     "execution_count": 7,
     "metadata": {},
     "output_type": "execute_result"
    }
   ],
   "source": [
    "rev.head(3)"
   ]
  },
  {
   "cell_type": "code",
   "execution_count": 25,
   "metadata": {},
   "outputs": [
    {
     "data": {
      "text/plain": [
       "2656"
      ]
     },
     "execution_count": 25,
     "metadata": {},
     "output_type": "execute_result"
    }
   ],
   "source": [
    "rev['restaurant_id'].nunique()"
   ]
  },
  {
   "cell_type": "markdown",
   "metadata": {},
   "source": [
    "### 샘플 데이터 뽑기"
   ]
  },
  {
   "cell_type": "code",
   "execution_count": 28,
   "metadata": {},
   "outputs": [],
   "source": [
    "val_ = rev['restaurant_id'].value_counts()\n",
    "unique_counts = val_.value_counts()\n",
    "\n",
    "# 카운트가 40 이상인 60이하만\n",
    "selected_values = val_[(val_ >= 40) & (val_ <= 60)].index\n",
    "\n",
    "# 필터링된 값들을 포함하는 원본 데이터프레임 필터링\n",
    "rev_sample = rev[rev['restaurant_id'].isin(selected_values)]"
   ]
  },
  {
   "cell_type": "code",
   "execution_count": 29,
   "metadata": {},
   "outputs": [
    {
     "data": {
      "text/plain": [
       "137"
      ]
     },
     "execution_count": 29,
     "metadata": {},
     "output_type": "execute_result"
    }
   ],
   "source": [
    "rev_sample['restaurant_id'].nunique()"
   ]
  },
  {
   "cell_type": "code",
   "execution_count": 30,
   "metadata": {},
   "outputs": [],
   "source": [
    "# rev_sample_df에서 restaurant_id 열의 고유값 추출\n",
    "unique_restaurant_ids = rev_sample['restaurant_id'].unique()\n",
    "\n",
    "# menu_df에서 rev_sample_df에 있는 restaurant_id만 남기기\n",
    "menu_sample = menu[menu['restaurant_id'].isin(unique_restaurant_ids)]"
   ]
  },
  {
   "cell_type": "code",
   "execution_count": 36,
   "metadata": {},
   "outputs": [
    {
     "data": {
      "text/plain": [
       "92"
      ]
     },
     "execution_count": 36,
     "metadata": {},
     "output_type": "execute_result"
    }
   ],
   "source": [
    "menu_sample['restaurant_id'].nunique()"
   ]
  },
  {
   "cell_type": "code",
   "execution_count": 34,
   "metadata": {},
   "outputs": [],
   "source": [
    "sample = pd.merge(menu_sample, rev_sample, on='restaurant_id', how='inner')"
   ]
  },
  {
   "cell_type": "code",
   "execution_count": 42,
   "metadata": {},
   "outputs": [
    {
     "data": {
      "text/html": [
       "<div>\n",
       "<style scoped>\n",
       "    .dataframe tbody tr th:only-of-type {\n",
       "        vertical-align: middle;\n",
       "    }\n",
       "\n",
       "    .dataframe tbody tr th {\n",
       "        vertical-align: top;\n",
       "    }\n",
       "\n",
       "    .dataframe thead th {\n",
       "        text-align: right;\n",
       "    }\n",
       "</style>\n",
       "<table border=\"1\" class=\"dataframe\">\n",
       "  <thead>\n",
       "    <tr style=\"text-align: right;\">\n",
       "      <th></th>\n",
       "      <th>menu_id</th>\n",
       "      <th>price</th>\n",
       "      <th>restaurant_id</th>\n",
       "      <th>name</th>\n",
       "      <th>ranking</th>\n",
       "      <th>created_at_x</th>\n",
       "      <th>updated_at_x</th>\n",
       "      <th>image_url</th>\n",
       "      <th>review_id</th>\n",
       "      <th>created_at_y</th>\n",
       "      <th>user_id</th>\n",
       "      <th>content</th>\n",
       "      <th>updated_at_y</th>\n",
       "    </tr>\n",
       "  </thead>\n",
       "  <tbody>\n",
       "    <tr>\n",
       "      <th>0</th>\n",
       "      <td>492</td>\n",
       "      <td>10000</td>\n",
       "      <td>54</td>\n",
       "      <td>판모밀</td>\n",
       "      <td>NaN</td>\n",
       "      <td>NaN</td>\n",
       "      <td>NaN</td>\n",
       "      <td>NaN</td>\n",
       "      <td>17064</td>\n",
       "      <td>3.15.금</td>\n",
       "      <td>10306</td>\n",
       "      <td>1인 코마찌 사시미코스시켰는데 회들이 진짜 싱싱하 고 살살 녹아요!!!! 아니 회뿐...</td>\n",
       "      <td>NaN</td>\n",
       "    </tr>\n",
       "    <tr>\n",
       "      <th>1</th>\n",
       "      <td>492</td>\n",
       "      <td>10000</td>\n",
       "      <td>54</td>\n",
       "      <td>판모밀</td>\n",
       "      <td>NaN</td>\n",
       "      <td>NaN</td>\n",
       "      <td>NaN</td>\n",
       "      <td>NaN</td>\n",
       "      <td>17065</td>\n",
       "      <td>3.19.화</td>\n",
       "      <td>10307</td>\n",
       "      <td>아이들없이 신랑하고 둘만 일식 먹으려고 방문했는데 메뉴 나올때마다 너무 맛있어서 애...</td>\n",
       "      <td>NaN</td>\n",
       "    </tr>\n",
       "  </tbody>\n",
       "</table>\n",
       "</div>"
      ],
      "text/plain": [
       "   menu_id  price  restaurant_id name  ranking  created_at_x  updated_at_x   \n",
       "0      492  10000             54  판모밀      NaN           NaN           NaN  \\\n",
       "1      492  10000             54  판모밀      NaN           NaN           NaN   \n",
       "\n",
       "   image_url  review_id created_at_y  user_id   \n",
       "0        NaN      17064       3.15.금    10306  \\\n",
       "1        NaN      17065       3.19.화    10307   \n",
       "\n",
       "                                             content  updated_at_y  \n",
       "0  1인 코마찌 사시미코스시켰는데 회들이 진짜 싱싱하 고 살살 녹아요!!!! 아니 회뿐...           NaN  \n",
       "1  아이들없이 신랑하고 둘만 일식 먹으려고 방문했는데 메뉴 나올때마다 너무 맛있어서 애...           NaN  "
      ]
     },
     "execution_count": 42,
     "metadata": {},
     "output_type": "execute_result"
    }
   ],
   "source": [
    "sample.head(2)"
   ]
  },
  {
   "cell_type": "code",
   "execution_count": 40,
   "metadata": {},
   "outputs": [
    {
     "data": {
      "text/plain": [
       "92"
      ]
     },
     "execution_count": 40,
     "metadata": {},
     "output_type": "execute_result"
    }
   ],
   "source": [
    "sample['restaurant_id'].nunique()"
   ]
  },
  {
   "cell_type": "code",
   "execution_count": 41,
   "metadata": {},
   "outputs": [],
   "source": [
    "menu_sample.to_csv(path + \"menu_sample.csv\", encoding='utf-8-sig')\n",
    "rev_sample.to_csv(path + \"review_sample.csv\", encoding='utf-8-sig')"
   ]
  },
  {
   "cell_type": "markdown",
   "metadata": {},
   "source": [
    "### functions"
   ]
  },
  {
   "cell_type": "code",
   "execution_count": 16,
   "metadata": {},
   "outputs": [],
   "source": [
    "# 리뷰 테이블 받아서 필요한 리뷰만 선별해 리스트(?) 키버트의 인풋 형식으로 만드는 함수\n",
    "import re\n",
    "from kiwipiepy import Kiwi\n",
    "\n",
    "def drop_short_words(df, threshold):\n",
    "    # 텍스트가 없는 널값 제거\n",
    "    df = df.dropna(subset=['content'])\n",
    "\n",
    "    # 한 단어 이상인 것들만 남기기\n",
    "    df['word_counts'] = df['content'].apply(lambda x: len(x.split()))\n",
    "\n",
    "    # 한 단어(threshold) 이상인 것들만 필터링하여 새로운 데이터프레임 반환. 필요없는 word_counts는 삭제\n",
    "    return df[df['word_counts'] > threshold].drop(columns=['word_counts'])\n",
    "\n",
    "def preprocess_emoji(content):\n",
    "    filtered_content = re.sub(r'[^\\s\\wㄱ-힣\\d]', '', content)\n",
    "    \n",
    "    return filtered_content\n",
    "\n",
    "kiwi = Kiwi()\n",
    "def kiwi_to_sentences(combined_review):\n",
    "\n",
    "    sentences = kiwi.split_into_sents(combined_review)\n",
    "\n",
    "    # 출력 형식 중 텍스트만 리스트에 저장\n",
    "    text_list = [sentence.text for sentence in sentences]\n",
    "    \n",
    "    return text_list\n",
    "\n",
    "def review_table2input(review_table):\n",
    "    # 필요 컬럼만 선별\n",
    "    review_table = review_table[['restaurant_id', 'content']]\n",
    "\n",
    "    # 2단어 이상인 리뷰만 선별 (2단어인 이유는 중간발표 appendix. word count 히스토그램 참고)\n",
    "    dropped_review_table = drop_short_words(review_table, 1)\n",
    "\n",
    "    # 'review_text' 열에 정규 표현식 함수 적용\n",
    "    dropped_review_table['content'] = dropped_review_table['content'].apply(preprocess_emoji)\n",
    "\n",
    "    # restaurant_id로 그룹화하여 content(review_text)들을 온점 단위로 합치기\n",
    "    grouped_reviews = dropped_review_table.groupby('restaurant_id')['content'].apply(lambda x: ' . '.join(x)).reset_index()\n",
    "\n",
    "    # 새로운 데이터프레임 생성 및 문장 단위 분리해 리스트 저장\n",
    "    new_df = pd.DataFrame(grouped_reviews)\n",
    "    new_df['review_sentence_split'] = new_df['content'].apply(kiwi_to_sentences)\n",
    "\n",
    "    return new_df"
   ]
  },
  {
   "cell_type": "code",
   "execution_count": 17,
   "metadata": {},
   "outputs": [
    {
     "name": "stderr",
     "output_type": "stream",
     "text": [
      "C:\\Users\\MOONSOO\\AppData\\Local\\Temp\\ipykernel_30224\\2988013052.py:10: SettingWithCopyWarning: \n",
      "A value is trying to be set on a copy of a slice from a DataFrame.\n",
      "Try using .loc[row_indexer,col_indexer] = value instead\n",
      "\n",
      "See the caveats in the documentation: https://pandas.pydata.org/pandas-docs/stable/user_guide/indexing.html#returning-a-view-versus-a-copy\n",
      "  df['word_counts'] = df['content'].apply(lambda x: len(x.split()))\n"
     ]
    }
   ],
   "source": [
    "path = \"./data/\"\n",
    "\n",
    "menu_sample = pd.read_csv(path + \"menu_sample.csv\", encoding='utf-8-sig')\n",
    "rev_sample = pd.read_csv(path + \"review_sample.csv\", encoding='utf-8-sig')\n",
    "\n",
    "preprocessed = review_table2input(rev_sample)"
   ]
  },
  {
   "cell_type": "code",
   "execution_count": 20,
   "metadata": {},
   "outputs": [
    {
     "name": "stdout",
     "output_type": "stream",
     "text": [
      "994\n",
      "6737\n",
      "137\n"
     ]
    }
   ],
   "source": [
    "print(len(menu_sample))\n",
    "print(len(rev_sample))\n",
    "print(len(preprocessed))"
   ]
  },
  {
   "cell_type": "code",
   "execution_count": 24,
   "metadata": {},
   "outputs": [
    {
     "data": {
      "text/plain": [
       "['국물 닭발이랑 닭똥집 튀김 먹었는데  음식 궁합이 좋고 있게 잘먹었습니다.',\n",
       " '안주가 맛있네요',\n",
       " '편안하게 놀기 너무 좋아요 단체석도 많고 여러명이서 회식하기 딱 입니다',\n",
       " '굿굿 자주 방문 할게용.',\n",
       " '안주가 너무 맛있어서 자주 가는 술집인데 할로윈 시즌이라고 예쁘게 꾸며놓은거 너무 이뻐요 ㅠㅠ.',\n",
       " '어제 샤베트가 먹고싶어 방문하였는데 기본안주 마카 로니 과자를 주셔서 먹었는데 상했는지 고무맛에 악 취가 났습니다',\n",
       " '바로 뱉긴 했는데 너무 기분이 .',\n",
       " '너무맛있게 잘먹고왔어요.',\n",
       " '일요일이라 오픈한 마땅한 술집이 없어서 들어갔는데 나름 괜찮았음.',\n",
       " '맛있고 친절해요.',\n",
       " '안주도 맛있도 직원분들도 착해서 좋은듯.',\n",
       " '음식도 괜찮구 청결하고 화장실도 깨끗해요.',\n",
       " '집앞에 자주오는 단골술집 오늘도 역시 잘 먹고 갑니다',\n",
       " '단체로 가기 좋고 강추합니다.',\n",
       " '안주는 하나 하나 다 시킨거 맛있고 화장실 쾌적하고 친절은 기본이여서 술이 너무 기깔나게 들어가서 9시까지야가지고 술을 저거밖에 못마신게 아쉽네요 번창하세요',\n",
       " '난 이미 단골 예약s. 사장님 너무 친절해서 좋아요',\n",
       " '젊어서 그런가 마인드가 통하는거 같애서 좋네요',\n",
       " '맛있는 메뉴가 많아서 삼십분동안 고민하는데 작은 서비스 주셔서 감동 받았어요ㅠㅠ',\n",
       " '강냉이 이빠이요ㅋㅋ 옆 테이블에서 짜계치 맛있다고 칭찬을 너무해서 짜계치는 꼭 먹으러 다음주에 갈게요 다음번에는 메뉴 정해서 꼭 올게요',\n",
       " '잘먹었습니다 .',\n",
       " '2번째 방문  사장님 한결같이 친절하시고 다른 안주 시켜봤는데 항상 맛있어요 술집 분위기가 조금 더 좋게 바껴서 더 좋은거 같애요',\n",
       " '술 맛이 나요.',\n",
       " '동네에 자주가는 술집입니다 안주도 너무 맛있고 가게가 청결해서 좋아요.',\n",
       " '주변 추천 받고 갔는데 종강인데도 불구하고 사장님께서 서비스도 많이 주시고 자리마다 방문하셔서 맛있게 감사히 잘 먹었습니다',\n",
       " '이야기 해주셔서 너무 감사했습니다',\n",
       " '다음에 또 오겠습니다.',\n",
       " '존맛 술마시기 너무 좋아요.',\n",
       " '안주털이인 저에게 너무나 좋은 곳 안주가 쥑입니다',\n",
       " '글고 사장님 친절하세용.',\n",
       " '사장님 착하고 음식 맛있어용재방문예정ㅋㅋ.',\n",
       " '안주너무 맛있고 서비스 너무 좋아여',\n",
       " '사장님 너무 친절해여.',\n",
       " '집 근처에 새로 오픈해서 와봤는데 안주도 맛있고  분위기도 좋아요',\n",
       " '또 방문할거같아요.',\n",
       " '학교 근처에 새로 오픈한 곳이 있어서 친구들이랑 방문해봤는데 안주도 괜찮고 가게 분위기도 좋아서 자주 방문할 것 같아요.',\n",
       " '직원분들도 너무 좋으시고 음식도 너무 맛있어요  학교 근처인데 모이기도 너무 좋고 친구들이랑도 놀기도 좋고 너무 분위기 좋습니다',\n",
       " '근처 술집 많이 가봤는데 안주도 혜자네요.',\n",
       " '솔직히 기대안하고 갔는데 메뉴 하나하나가 다 너무 맛있어서 놀랐어요',\n",
       " '직원분들도 엄청 친절하세요',\n",
       " '근처 주민이 아니라 자주 갈 일은 없겠지만 다음에 기회되면 또 갈게요.',\n",
       " '오픈한지 얼마 안된 따끈따근한 술집인데 벌써 3번째 방문하고 이제서야 리뷰쓰네요',\n",
       " '맨날 올때마다 가라아게 탕수육은 꼭 먹어요',\n",
       " '또 사장님이 되게 친절하게 해주세요',\n",
       " '다음에도 또 찾아 뵐게요.',\n",
       " '처음 가본 곳이였는데 다 맘에 들어요ㅠㅠ',\n",
       " '안주도 진짜 최고입니다',\n",
       " '또한 분위기 자체도 좋고 화장실도 깨끗합니다.',\n",
       " '맛있어요',\n",
       " '자주 올 예정입니다.',\n",
       " '단체로도 너무 좋고 해물누룽지탕이 너무 맛있었어요',\n",
       " '사장님이 젊으신거 같은데 서비스도 너무 좋았어요 번창하세요.',\n",
       " '새로생겨서 술마시러 갔눈',\n",
       " '눈데 안주릉 더 먹었네요',\n",
       " '사장님이 너뮤 잘생겼어요 ㅠㅠ',\n",
       " '자주 갈게요.',\n",
       " '안주도 맛있고 가격도 저렴하고 분위기때문에 좋아서 술먹을때 너무 좋아요.',\n",
       " '안주도 너무 너무 맛있어욤',\n",
       " '욤서비스도 굿굿 이 근처 학생인데 자주 먹으러 갈게요ㅎㅎ',\n",
       " '화양동 술집 1등입니당.',\n",
       " '처음 방문인데 안주가 너무 맛있고 분위기가 좋네요',\n",
       " '직원분들도 너무너무 친절하세요',\n",
       " '추천합니다.',\n",
       " '사장님도 친절하시고 맛있어요.',\n",
       " '사장님너무친절하고 안주도 너무맛있어요.',\n",
       " '여기 안주가 아주 깃똥차고 즉석만남으로도 좋아용ㅋㅋㅋ.',\n",
       " '정말 안주도 좋은데 즉서만남도 좋네요.',\n",
       " '사장님 개착함',\n",
       " '안주 맛있는데 사장님한테 말걸고 친해지면 서비스 야무짐 ㅋㅋㅋㅋㅋㅋ.',\n",
       " '안주 너무 맛있고 직원분들도 친절해서 단골될거 같아요.',\n",
       " '지린다 와바라']"
      ]
     },
     "execution_count": 24,
     "metadata": {},
     "output_type": "execute_result"
    }
   ],
   "source": [
    "preprocessed.iloc[132, 2]"
   ]
  },
  {
   "cell_type": "code",
   "execution_count": null,
   "metadata": {},
   "outputs": [],
   "source": [
    "# 메뉴 문장 추출\n",
    "\n",
    "# 메뉴 데이터에서 메뉴 리스트를 먼저 만들어줍니다\n",
    "# 추후 이 데이터를 활용해 리뷰에서 메뉴 문장만을 추출합니다\n",
    "\n",
    "import re\n",
    "from kiwipiepy import Kiwi\n",
    "kiwi = Kiwi()\n",
    "\n",
    "def remove_bracket_contents(menu_names):\n",
    "    cleaned_list = []\n",
    "\n",
    "    # 괄호 안의 내용을 모두 지우는 정규 표현식 패턴\n",
    "    pattern = r'[\\[\\(].*?[\\]\\)]'\n",
    "\n",
    "    for menu_name in menu_names:\n",
    "\n",
    "        # 패턴을 사용하여 텍스트에서 괄호 안의 내용을 모두 지움\n",
    "        cleaned_text = re.sub(pattern, '', menu_name)\n",
    "\n",
    "        if cleaned_text is not None:\n",
    "            cleaned_list.append(cleaned_text)\n",
    "\n",
    "    return cleaned_list\n",
    "\n",
    "def split_menu(menu_names):\n",
    "    menu_sample_list = []\n",
    "    menu_dict = []\n",
    "\n",
    "    for menu_name in menu_names:\n",
    "        org_menu_dict = {}\n",
    "        split_result = re.split(r'[+\\-\\s]+', menu_name)\n",
    "\n",
    "        # 원본 메뉴명에 대해 딕셔너리 키 생성\n",
    "        if menu_name not in org_menu_dict:\n",
    "            org_menu_dict[menu_name] = []  # 초기 리스트 생성\n",
    "\n",
    "\n",
    "        # 띄어쓰기 단위로 잘라진 메뉴 이름 저장시키기\n",
    "        menu_name_list = []\n",
    "\n",
    "        tokened_blank_menu_list = []\n",
    "        for result in split_result:\n",
    "            if any(char.isdigit() for char in result):\n",
    "                # 숫자일 경우 무시\n",
    "                continue\n",
    "            else:\n",
    "                # \" \", \"\"으로 조인시킬 메뉴 네임 리스트(임시적인 리스트)\n",
    "                menu_name_list.append(result)\n",
    "\n",
    "                # 얻어진 메뉴명을 토크나이즈 해주고 그것도 메뉴 리스트에 포함\n",
    "                kiwi_tokens = kiwi.tokenize(result)\n",
    "                tokened_blank_menu = \" \".join([token.form for token in kiwi_tokens])\n",
    "                tokened_blank_menu_list.append(tokened_blank_menu)\n",
    "\n",
    "            tokened_blank_menu_join = \" \".join(tokened_blank_menu_list)\n",
    "            # 딕셔너리에 원본 메뉴명의 변형본 추가와 메뉴 샘플리스트에 넣기\n",
    "            org_menu_dict[menu_name].append(tokened_blank_menu_join)\n",
    "            menu_sample_list.append(tokened_blank_menu_join)\n",
    "\n",
    "        menu_dict.append(org_menu_dict)\n",
    "\n",
    "        \n",
    "        blank_menu = \" \".join(menu_name_list)\n",
    "        contiuous_menu = \"\".join(menu_name_list)\n",
    "\n",
    "        menu_sample_list.append(blank_menu)\n",
    "        menu_sample_list.append(contiuous_menu)\n",
    "\n",
    "        # 원본 메뉴 명의 변형을 딕셔너리에 저장\n",
    "        org_menu_dict[menu_name].append(blank_menu)\n",
    "        org_menu_dict[menu_name].append(contiuous_menu)\n",
    "        org_menu_dict[menu_name] = list(set(org_menu_dict[menu_name]))\n",
    "\n",
    "        # +, -, 공백 단위로 띄워준 메뉴 이름을 리스트에 넣어줌\n",
    "        # split_result = re.split(r'[+\\-\\s]+', menu_name)\n",
    "        # menu_sample_list.extend(split_result)\n",
    "\n",
    "        # for result in split_result:\n",
    "        #     # 얻어진 메뉴명을 토크나이즈 해주고 그것도 메뉴 리스트에 포함\n",
    "        #     kiwi_tokens = kiwi.tokenize(result)\n",
    "        #     menu_sample_list.extend([token.form for token in kiwi_tokens])\n",
    "\n",
    "    # 리스트를 set으로 변환하여 중복 제거\n",
    "    menu_sample_list = set(menu_sample_list)\n",
    "    # set을 다시 리스트로 변환\n",
    "    menu_sample_list = list(menu_sample_list)\n",
    "    \n",
    "    return menu_sample_list, menu_dict\n",
    "\n",
    "def make_menu_list(df_menu):\n",
    "    # 'rst_name'을 기준으로 그룹지어서 'menu_name' 열의 모든 값을 리스트로 모으기\n",
    "    grouped = df_menu.groupby('rst_name').agg({\n",
    "        'menu_name': lambda x: list(x)\n",
    "    })\n",
    "    \n",
    "    grouped['preprocessed_menu_name'] = grouped['menu_name'].apply(remove_bracket_contents)\n",
    "\n",
    "    # 'menu_name' 열의 각 값들을 띄어쓰기 단위로 분할하여 리스트로 만들기\n",
    "    grouped[['menu_name_split', 'org_menu_dict']] = grouped['preprocessed_menu_name'].apply(split_menu).apply(pd.Series)\n",
    "\n",
    "    return grouped\n"
   ]
  },
  {
   "cell_type": "markdown",
   "metadata": {},
   "source": [
    "### inference"
   ]
  },
  {
   "cell_type": "code",
   "execution_count": null,
   "metadata": {},
   "outputs": [],
   "source": [
    "import pandas as pd\n",
    "from kiwipiepy import Kiwi\n",
    "from sklearn.feature_extraction.text import CountVectorizer\n",
    "from transformers import BertModel\n",
    "from keybert import KeyBERT\n",
    "import ast"
   ]
  },
  {
   "cell_type": "code",
   "execution_count": null,
   "metadata": {},
   "outputs": [],
   "source": [
    "path = \"./data/\"\n",
    "\n",
    "menu_sample = pd.read_csv(path + \"menu_sample.csv\", encoding='utf-8-sig')\n",
    "rev_sample = pd.read_csv(path + \"review_sample.csv\", encoding='utf-8-sig')"
   ]
  },
  {
   "cell_type": "code",
   "execution_count": null,
   "metadata": {},
   "outputs": [],
   "source": [
    "# functions\n",
    "from kiwipiepy import Kiwi\n",
    "\n",
    "kiwi = Kiwi()\n",
    "\n",
    "def adverb_remover(text):\n",
    "    results = []\n",
    "    result = kiwi.analyze(text)\n",
    "    for token, pos, _, len_token in result[0][0]:\n",
    "        if (\n",
    "            len_token != 1\n",
    "            and pos.startswith(\"J\") == False\n",
    "            and pos.startswith(\"E\") == False\n",
    "            and pos.startswith(\"MAJ\") == False\n",
    "        ):\n",
    "            results.append(token)\n",
    "    return results\n"
   ]
  },
  {
   "cell_type": "code",
   "execution_count": null,
   "metadata": {},
   "outputs": [],
   "source": [
    "# KeyBERT 로드. (KoBERT 사용)\n",
    "\n",
    "model = BertModel.from_pretrained(\"skt/kobert-base-v1\")\n",
    "# KeyBERT 모델 초기화 (skt의 Kobert 사용)\n",
    "kw_model = KeyBERT(model)"
   ]
  },
  {
   "cell_type": "code",
   "execution_count": 43,
   "metadata": {},
   "outputs": [
    {
     "data": {
      "text/html": [
       "<div>\n",
       "<style scoped>\n",
       "    .dataframe tbody tr th:only-of-type {\n",
       "        vertical-align: middle;\n",
       "    }\n",
       "\n",
       "    .dataframe tbody tr th {\n",
       "        vertical-align: top;\n",
       "    }\n",
       "\n",
       "    .dataframe thead th {\n",
       "        text-align: right;\n",
       "    }\n",
       "</style>\n",
       "<table border=\"1\" class=\"dataframe\">\n",
       "  <thead>\n",
       "    <tr style=\"text-align: right;\">\n",
       "      <th></th>\n",
       "      <th>review_id</th>\n",
       "      <th>created_at</th>\n",
       "      <th>user_id</th>\n",
       "      <th>restaurant_id</th>\n",
       "      <th>content</th>\n",
       "      <th>updated_at</th>\n",
       "    </tr>\n",
       "  </thead>\n",
       "  <tbody>\n",
       "    <tr>\n",
       "      <th>17064</th>\n",
       "      <td>17064</td>\n",
       "      <td>3.15.금</td>\n",
       "      <td>10306</td>\n",
       "      <td>54</td>\n",
       "      <td>1인 코마찌 사시미코스시켰는데 회들이 진짜 싱싱하 고 살살 녹아요!!!! 아니 회뿐...</td>\n",
       "      <td>NaN</td>\n",
       "    </tr>\n",
       "    <tr>\n",
       "      <th>17065</th>\n",
       "      <td>17065</td>\n",
       "      <td>3.19.화</td>\n",
       "      <td>10307</td>\n",
       "      <td>54</td>\n",
       "      <td>아이들없이 신랑하고 둘만 일식 먹으려고 방문했는데 메뉴 나올때마다 너무 맛있어서 애...</td>\n",
       "      <td>NaN</td>\n",
       "    </tr>\n",
       "    <tr>\n",
       "      <th>17066</th>\n",
       "      <td>17066</td>\n",
       "      <td>23.10.1.일</td>\n",
       "      <td>10308</td>\n",
       "      <td>54</td>\n",
       "      <td>숙성 사시미 정말 쫀득하고  입에서 살살녹아요. 사장님이 음식 내주시면서 다설명해주...</td>\n",
       "      <td>NaN</td>\n",
       "    </tr>\n",
       "    <tr>\n",
       "      <th>17067</th>\n",
       "      <td>17067</td>\n",
       "      <td>23.10.1.일</td>\n",
       "      <td>10309</td>\n",
       "      <td>54</td>\n",
       "      <td>푸짐한 양에 퀄리티 높은 메뉴들로만 구성되어 있어서 손이 가지 않는 스끼다시 가짓수...</td>\n",
       "      <td>NaN</td>\n",
       "    </tr>\n",
       "    <tr>\n",
       "      <th>17068</th>\n",
       "      <td>17068</td>\n",
       "      <td>23.7.29.토</td>\n",
       "      <td>10310</td>\n",
       "      <td>54</td>\n",
       "      <td>일식집 중에 단연코 1등 최애 맛집입니다. 사장님이자 주방장님이신데 처음부터 끝까지...</td>\n",
       "      <td>NaN</td>\n",
       "    </tr>\n",
       "    <tr>\n",
       "      <th>...</th>\n",
       "      <td>...</td>\n",
       "      <td>...</td>\n",
       "      <td>...</td>\n",
       "      <td>...</td>\n",
       "      <td>...</td>\n",
       "      <td>...</td>\n",
       "    </tr>\n",
       "    <tr>\n",
       "      <th>427869</th>\n",
       "      <td>430843</td>\n",
       "      <td>22.11.13.일</td>\n",
       "      <td>1329</td>\n",
       "      <td>2614</td>\n",
       "      <td>굿</td>\n",
       "      <td>NaN</td>\n",
       "    </tr>\n",
       "    <tr>\n",
       "      <th>427870</th>\n",
       "      <td>430844</td>\n",
       "      <td>21.10.29.금</td>\n",
       "      <td>1810</td>\n",
       "      <td>2614</td>\n",
       "      <td>굿</td>\n",
       "      <td>NaN</td>\n",
       "    </tr>\n",
       "    <tr>\n",
       "      <th>427871</th>\n",
       "      <td>430845</td>\n",
       "      <td>21.11.11.목</td>\n",
       "      <td>19962</td>\n",
       "      <td>2614</td>\n",
       "      <td>ㅎ</td>\n",
       "      <td>NaN</td>\n",
       "    </tr>\n",
       "    <tr>\n",
       "      <th>427872</th>\n",
       "      <td>430846</td>\n",
       "      <td>21.7.10.토</td>\n",
       "      <td>136285</td>\n",
       "      <td>2614</td>\n",
       "      <td>굿</td>\n",
       "      <td>NaN</td>\n",
       "    </tr>\n",
       "    <tr>\n",
       "      <th>427873</th>\n",
       "      <td>430847</td>\n",
       "      <td>20.5.23.토</td>\n",
       "      <td>50331</td>\n",
       "      <td>2614</td>\n",
       "      <td>굿</td>\n",
       "      <td>NaN</td>\n",
       "    </tr>\n",
       "  </tbody>\n",
       "</table>\n",
       "<p>6737 rows × 6 columns</p>\n",
       "</div>"
      ],
      "text/plain": [
       "        review_id  created_at  user_id  restaurant_id   \n",
       "17064       17064      3.15.금    10306             54  \\\n",
       "17065       17065      3.19.화    10307             54   \n",
       "17066       17066   23.10.1.일    10308             54   \n",
       "17067       17067   23.10.1.일    10309             54   \n",
       "17068       17068   23.7.29.토    10310             54   \n",
       "...           ...         ...      ...            ...   \n",
       "427869     430843  22.11.13.일     1329           2614   \n",
       "427870     430844  21.10.29.금     1810           2614   \n",
       "427871     430845  21.11.11.목    19962           2614   \n",
       "427872     430846   21.7.10.토   136285           2614   \n",
       "427873     430847   20.5.23.토    50331           2614   \n",
       "\n",
       "                                                  content  updated_at  \n",
       "17064   1인 코마찌 사시미코스시켰는데 회들이 진짜 싱싱하 고 살살 녹아요!!!! 아니 회뿐...         NaN  \n",
       "17065   아이들없이 신랑하고 둘만 일식 먹으려고 방문했는데 메뉴 나올때마다 너무 맛있어서 애...         NaN  \n",
       "17066   숙성 사시미 정말 쫀득하고  입에서 살살녹아요. 사장님이 음식 내주시면서 다설명해주...         NaN  \n",
       "17067   푸짐한 양에 퀄리티 높은 메뉴들로만 구성되어 있어서 손이 가지 않는 스끼다시 가짓수...         NaN  \n",
       "17068   일식집 중에 단연코 1등 최애 맛집입니다. 사장님이자 주방장님이신데 처음부터 끝까지...         NaN  \n",
       "...                                                   ...         ...  \n",
       "427869                                                  굿         NaN  \n",
       "427870                                                  굿         NaN  \n",
       "427871                                                  ㅎ         NaN  \n",
       "427872                                                  굿         NaN  \n",
       "427873                                                  굿         NaN  \n",
       "\n",
       "[6737 rows x 6 columns]"
      ]
     },
     "execution_count": 43,
     "metadata": {},
     "output_type": "execute_result"
    }
   ],
   "source": [
    "rev_sample"
   ]
  }
 ],
 "metadata": {
  "kernelspec": {
   "display_name": "Python 3",
   "language": "python",
   "name": "python3"
  },
  "language_info": {
   "codemirror_mode": {
    "name": "ipython",
    "version": 3
   },
   "file_extension": ".py",
   "mimetype": "text/x-python",
   "name": "python",
   "nbconvert_exporter": "python",
   "pygments_lexer": "ipython3",
   "version": "3.11.5"
  }
 },
 "nbformat": 4,
 "nbformat_minor": 2
}
