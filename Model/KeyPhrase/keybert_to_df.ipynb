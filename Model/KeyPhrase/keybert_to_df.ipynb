{
 "cells": [
  {
   "cell_type": "markdown",
   "metadata": {},
   "source": [
    "### Data Load & Setting"
   ]
  },
  {
   "cell_type": "code",
   "execution_count": 28,
   "metadata": {},
   "outputs": [],
   "source": [
    "import pandas as pd\n",
    "from kiwipiepy import Kiwi\n",
    "from sklearn.feature_extraction.text import CountVectorizer\n",
    "from transformers import BertModel\n",
    "from keybert import KeyBERT\n",
    "import ast"
   ]
  },
  {
   "cell_type": "code",
   "execution_count": 34,
   "metadata": {},
   "outputs": [],
   "source": [
    "data=pd.read_csv('../data/menu_v3_sample_sentence.csv')\n",
    "\n",
    "# 문자열 형태의 리스트를 파이썬 리스트로 변환\n",
    "data[\"menu_name_split\"] = data[\"menu_name_split\"].apply(ast.literal_eval)\n",
    "data[\"menu_sentence\"] = data[\"menu_sentence\"].apply(ast.literal_eval)"
   ]
  },
  {
   "cell_type": "code",
   "execution_count": 35,
   "metadata": {},
   "outputs": [
    {
     "name": "stdout",
     "output_type": "stream",
     "text": [
      "<class 'pandas.core.frame.DataFrame'>\n",
      "RangeIndex: 40 entries, 0 to 39\n",
      "Data columns (total 5 columns):\n",
      " #   Column                 Non-Null Count  Dtype \n",
      "---  ------                 --------------  ----- \n",
      " 0   rst_name               40 non-null     object\n",
      " 1   review_sentence_split  40 non-null     object\n",
      " 2   menu_name_split        40 non-null     object\n",
      " 3   org_menu_dict          40 non-null     object\n",
      " 4   menu_sentence          40 non-null     object\n",
      "dtypes: object(5)\n",
      "memory usage: 1.7+ KB\n"
     ]
    }
   ],
   "source": [
    "data.info()"
   ]
  },
  {
   "cell_type": "code",
   "execution_count": 36,
   "metadata": {},
   "outputs": [
    {
     "data": {
      "text/html": [
       "<div>\n",
       "<style scoped>\n",
       "    .dataframe tbody tr th:only-of-type {\n",
       "        vertical-align: middle;\n",
       "    }\n",
       "\n",
       "    .dataframe tbody tr th {\n",
       "        vertical-align: top;\n",
       "    }\n",
       "\n",
       "    .dataframe thead th {\n",
       "        text-align: right;\n",
       "    }\n",
       "</style>\n",
       "<table border=\"1\" class=\"dataframe\">\n",
       "  <thead>\n",
       "    <tr style=\"text-align: right;\">\n",
       "      <th></th>\n",
       "      <th>rst_name</th>\n",
       "      <th>review_sentence_split</th>\n",
       "      <th>menu_name_split</th>\n",
       "      <th>org_menu_dict</th>\n",
       "      <th>menu_sentence</th>\n",
       "    </tr>\n",
       "  </thead>\n",
       "  <tbody>\n",
       "    <tr>\n",
       "      <th>0</th>\n",
       "      <td>가장맛있는족발 구의역점</td>\n",
       "      <td>['잡내 안나고 맛있어용 구의 먹자골목 바로 앞에서 접 근성이 매우 좋습니당 지나가...</td>\n",
       "      <td>[, 족발 하 고, 불 족발 새우젓 마늘 쌈장 쌈 야채, 실속 알뜰 보쌈 겉절이, ...</td>\n",
       "      <td>[{' 왕족발+막국수)': ['', '왕족발막국수)', ' 왕족발 막국수)', ' ...</td>\n",
       "      <td>[잡내 안나고 맛있어용 구의 먹자골목 바로 앞에서 접 근성이 매우 좋습니당 지나가면...</td>\n",
       "    </tr>\n",
       "    <tr>\n",
       "      <th>1</th>\n",
       "      <td>강나루 유황오리주물럭 본점</td>\n",
       "      <td>['생 양념 둘다 강추 ㅎㅎ 가면 무조건 반반이쥬 ㅎㅎ', '늘 갈때마다 맛있어요 ...</td>\n",
       "      <td>[뼈탕, 양념 주물럭, 모듬한마리, 양념주물럭, 오리 주물럭, 훈제오리, 모듬 한 ...</td>\n",
       "      <td>[{'오리주물럭': ['오리 주물럭', '오리주물럭']}, {'모듬한마리': ['모...</td>\n",
       "      <td>[미나리랑 같이 먹는 오리주물럭 아주 맛있었어요, 고기시키면 뼈탕이 서비스였는데 들...</td>\n",
       "    </tr>\n",
       "    <tr>\n",
       "      <th>2</th>\n",
       "      <td>고공 구의점</td>\n",
       "      <td>['구의역 소고기 맛집입니다', '토시살   갈비살   버 섯구이 구성의 소고기 세...</td>\n",
       "      <td>[토시 살, 된장찌개 밥, 가브리 살, 소고기 세트, 된장찌개밥, 돼지세트 , 김치...</td>\n",
       "      <td>[{'고공세트': ['고공세트', '고공 세트']}, {'소고기세트': ['소고기 ...</td>\n",
       "      <td>[토시살   갈비살   버 섯구이 구성의 소고기 세트 주문했어요, 고기도 정말 맛있...</td>\n",
       "    </tr>\n",
       "    <tr>\n",
       "      <th>3</th>\n",
       "      <td>고기반햄반김치찌개&amp;김치찜 아차산본점</td>\n",
       "      <td>['보글보글 김치찌개에 두부 추가하고 라면사리는 필수 로 넣어먹어요', '김치찌개 ...</td>\n",
       "      <td>[왕 계 이 란 말 이, 고기반김치찌개세트, 고기 반 김치찌개 세트, 왕계란말이, ...</td>\n",
       "      <td>[{'소불고기': ['소 불고기', '소불고기']}, {'고추장제육': ['고추장제...</td>\n",
       "      <td>[김찌는 맵기조절이가능하여 칼칼하게먹기딱좋고 제육은 불향이나서 짭졸하니 좋아요, 퐁...</td>\n",
       "    </tr>\n",
       "    <tr>\n",
       "      <th>4</th>\n",
       "      <td>고향집</td>\n",
       "      <td>['새조개무침 벌교꼬막 대구탕   새조개무침  미쳤음', '맛있어요', '새조개 진...</td>\n",
       "      <td>[물회, 새꼬막양념, 벌교참꼬막, 간 재미, 새 꼬막, 참 꼬막 양념, 간재미 회무...</td>\n",
       "      <td>[{'쭈꾸미구이': ['쭈꾸미 구이', '쭈꾸미구이']}, {'짱뚱어탕': ['짱뚱...</td>\n",
       "      <td>[벌교참꼬막 38000 2인분 정도 될듯해요, 굴회무침 30 000 간재미무침과 양...</td>\n",
       "    </tr>\n",
       "  </tbody>\n",
       "</table>\n",
       "</div>"
      ],
      "text/plain": [
       "              rst_name                              review_sentence_split   \n",
       "0         가장맛있는족발 구의역점  ['잡내 안나고 맛있어용 구의 먹자골목 바로 앞에서 접 근성이 매우 좋습니당 지나가...  \\\n",
       "1       강나루 유황오리주물럭 본점  ['생 양념 둘다 강추 ㅎㅎ 가면 무조건 반반이쥬 ㅎㅎ', '늘 갈때마다 맛있어요 ...   \n",
       "2               고공 구의점  ['구의역 소고기 맛집입니다', '토시살   갈비살   버 섯구이 구성의 소고기 세...   \n",
       "3  고기반햄반김치찌개&김치찜 아차산본점  ['보글보글 김치찌개에 두부 추가하고 라면사리는 필수 로 넣어먹어요', '김치찌개 ...   \n",
       "4                  고향집  ['새조개무침 벌교꼬막 대구탕   새조개무침  미쳤음', '맛있어요', '새조개 진...   \n",
       "\n",
       "                                     menu_name_split   \n",
       "0  [, 족발 하 고, 불 족발 새우젓 마늘 쌈장 쌈 야채, 실속 알뜰 보쌈 겉절이, ...  \\\n",
       "1  [뼈탕, 양념 주물럭, 모듬한마리, 양념주물럭, 오리 주물럭, 훈제오리, 모듬 한 ...   \n",
       "2  [토시 살, 된장찌개 밥, 가브리 살, 소고기 세트, 된장찌개밥, 돼지세트 , 김치...   \n",
       "3  [왕 계 이 란 말 이, 고기반김치찌개세트, 고기 반 김치찌개 세트, 왕계란말이, ...   \n",
       "4  [물회, 새꼬막양념, 벌교참꼬막, 간 재미, 새 꼬막, 참 꼬막 양념, 간재미 회무...   \n",
       "\n",
       "                                       org_menu_dict   \n",
       "0  [{' 왕족발+막국수)': ['', '왕족발막국수)', ' 왕족발 막국수)', ' ...  \\\n",
       "1  [{'오리주물럭': ['오리 주물럭', '오리주물럭']}, {'모듬한마리': ['모...   \n",
       "2  [{'고공세트': ['고공세트', '고공 세트']}, {'소고기세트': ['소고기 ...   \n",
       "3  [{'소불고기': ['소 불고기', '소불고기']}, {'고추장제육': ['고추장제...   \n",
       "4  [{'쭈꾸미구이': ['쭈꾸미 구이', '쭈꾸미구이']}, {'짱뚱어탕': ['짱뚱...   \n",
       "\n",
       "                                       menu_sentence  \n",
       "0  [잡내 안나고 맛있어용 구의 먹자골목 바로 앞에서 접 근성이 매우 좋습니당 지나가면...  \n",
       "1  [미나리랑 같이 먹는 오리주물럭 아주 맛있었어요, 고기시키면 뼈탕이 서비스였는데 들...  \n",
       "2  [토시살   갈비살   버 섯구이 구성의 소고기 세트 주문했어요, 고기도 정말 맛있...  \n",
       "3  [김찌는 맵기조절이가능하여 칼칼하게먹기딱좋고 제육은 불향이나서 짭졸하니 좋아요, 퐁...  \n",
       "4  [벌교참꼬막 38000 2인분 정도 될듯해요, 굴회무침 30 000 간재미무침과 양...  "
      ]
     },
     "execution_count": 36,
     "metadata": {},
     "output_type": "execute_result"
    }
   ],
   "source": [
    "data.head()"
   ]
  },
  {
   "cell_type": "markdown",
   "metadata": {},
   "source": [
    "### Functions"
   ]
  },
  {
   "cell_type": "code",
   "execution_count": 7,
   "metadata": {},
   "outputs": [],
   "source": [
    "from kiwipiepy import Kiwi\n",
    "\n",
    "kiwi = Kiwi()\n",
    "\n",
    "# 명사 추출 함수\n",
    "def noun_extractor(text):\n",
    "    results = []\n",
    "    result = kiwi.analyze(text)\n",
    "    for token, pos, _, _ in result[0][0]:\n",
    "        if len(token) != 1 and (pos.startswith(\"N\") or pos.startswith(\"SL\")):\n",
    "            results.append(token)\n",
    "    return results\n",
    "\n",
    "# 명사 추출 함수\n",
    "def adverb_remover(text):\n",
    "    results = []\n",
    "    result = kiwi.analyze(text)\n",
    "    for token, pos, _, len_token in result[0][0]:\n",
    "        if (\n",
    "            len_token != 1\n",
    "            and pos.startswith(\"J\") == False\n",
    "            and pos.startswith(\"E\") == False\n",
    "            and pos.startswith(\"MAJ\") == False\n",
    "        ):\n",
    "            results.append(token)\n",
    "    return results\n",
    "\n",
    "# 명사 추출 함수\n",
    "def extractor(text):\n",
    "    results = []\n",
    "    result = kiwi.analyze(text)\n",
    "    for token, pos, _, _ in result[0][0]:\n",
    "        if (\n",
    "            len(token) != 1\n",
    "            and pos.startswith(\"N\")\n",
    "            or pos.startswith(\"SL\")\n",
    "            or pos.startswith(\"V\")\n",
    "        ):\n",
    "            results.append(token)\n",
    "    return results"
   ]
  },
  {
   "cell_type": "code",
   "execution_count": null,
   "metadata": {},
   "outputs": [],
   "source": [
    "import ast\n",
    "\n",
    "# 문자열 형태의 리스트를 파이썬 리스트로 변환\n",
    "# data[\"menu_sentence\"] = data[\"menu_sentence\"].apply(ast.literal_eval)\n",
    "# 변환된 데이터의 첫 번째 요소 확인을 통해 변환 성공 여부 확인"
   ]
  },
  {
   "cell_type": "markdown",
   "metadata": {},
   "source": [
    "### KeyBERT to DataFrame (by. Moonsoo)"
   ]
  },
  {
   "cell_type": "code",
   "execution_count": 56,
   "metadata": {},
   "outputs": [],
   "source": [
    "# KeyBERT 로드. (KoBERT 사용)\n",
    "\n",
    "model = BertModel.from_pretrained(\"skt/kobert-base-v1\")\n",
    "# KeyBERT 모델 초기화 (skt의 Kobert 사용)\n",
    "kw_model = KeyBERT(model)"
   ]
  },
  {
   "cell_type": "code",
   "execution_count": 54,
   "metadata": {},
   "outputs": [],
   "source": [
    "# keybert돌리고 키워드 리턴하는 함수 (!! -- ngram은 무조건 켜야함 -- !!)\n",
    "def extract_keywords_from_reviews_candy(document,candidate,top_n=20):\n",
    "    # 주어진 리뷰들의 문장 리스트에서 각 문장별로 키워드를 추출하여 출력\n",
    "    keywords = kw_model.extract_keywords(\n",
    "        document,\n",
    "        keyphrase_ngram_range=(1,3),  # 단어 n-gram 범위\n",
    "        stop_words=None,  # 불용어F\n",
    "        # use_maxsum=False,\n",
    "        # use_mmr=True,\n",
    "        diversity=0.9,  # 다양성\n",
    "        top_n=top_n,\n",
    "        # highlight=True,\n",
    "        candidates=candidate\n",
    "    )  # 상위 n개 키워드\n",
    "    # print(f\"Keywords: {keywords}\\n\")\n",
    "\n",
    "    return keywords\n",
    "\n",
    "# 데이터 형식을 input text에 맞게 변환하는 함수 제작 (for문 안에서 돌던거를 위로 뺐음)\n",
    "def doc_to_input_text(review_doc):\n",
    "    # 식당의 문장 리스트 추출\n",
    "    input_text = \".\".join(review_doc)\n",
    "    input_text = adverb_remover(input_text)\n",
    "    input_text=\" \".join(input_text)\n",
    "\n",
    "    return input_text"
   ]
  },
  {
   "cell_type": "code",
   "execution_count": 39,
   "metadata": {},
   "outputs": [],
   "source": [
    "# input text 열 만들기\n",
    "data['input_text'] = data['menu_sentence'].apply(doc_to_input_text)"
   ]
  },
  {
   "cell_type": "code",
   "execution_count": 40,
   "metadata": {},
   "outputs": [
    {
     "data": {
      "text/html": [
       "<div>\n",
       "<style scoped>\n",
       "    .dataframe tbody tr th:only-of-type {\n",
       "        vertical-align: middle;\n",
       "    }\n",
       "\n",
       "    .dataframe tbody tr th {\n",
       "        vertical-align: top;\n",
       "    }\n",
       "\n",
       "    .dataframe thead th {\n",
       "        text-align: right;\n",
       "    }\n",
       "</style>\n",
       "<table border=\"1\" class=\"dataframe\">\n",
       "  <thead>\n",
       "    <tr style=\"text-align: right;\">\n",
       "      <th></th>\n",
       "      <th>rst_name</th>\n",
       "      <th>review_sentence_split</th>\n",
       "      <th>menu_name_split</th>\n",
       "      <th>org_menu_dict</th>\n",
       "      <th>menu_sentence</th>\n",
       "      <th>input_text</th>\n",
       "    </tr>\n",
       "  </thead>\n",
       "  <tbody>\n",
       "    <tr>\n",
       "      <th>0</th>\n",
       "      <td>가장맛있는족발 구의역점</td>\n",
       "      <td>['잡내 안나고 맛있어용 구의 먹자골목 바로 앞에서 접 근성이 매우 좋습니당 지나가...</td>\n",
       "      <td>[, 족발 하 고, 불 족발 새우젓 마늘 쌈장 쌈 야채, 실속 알뜰 보쌈 겉절이, ...</td>\n",
       "      <td>[{' 왕족발+막국수)': ['', '왕족발막국수)', ' 왕족발 막국수)', ' ...</td>\n",
       "      <td>[잡내 안나고 맛있어용 구의 먹자골목 바로 앞에서 접 근성이 매우 좋습니당 지나가면...</td>\n",
       "      <td>잡내 맛있 구의 먹자골목 바로 근성 매우 지나가 자주 서비스 메뉴 알차 맵 .. 아...</td>\n",
       "    </tr>\n",
       "    <tr>\n",
       "      <th>1</th>\n",
       "      <td>강나루 유황오리주물럭 본점</td>\n",
       "      <td>['생 양념 둘다 강추 ㅎㅎ 가면 무조건 반반이쥬 ㅎㅎ', '늘 갈때마다 맛있어요 ...</td>\n",
       "      <td>[뼈탕, 양념 주물럭, 모듬한마리, 양념주물럭, 오리 주물럭, 훈제오리, 모듬 한 ...</td>\n",
       "      <td>[{'오리주물럭': ['오리 주물럭', '오리주물럭']}, {'모듬한마리': ['모...</td>\n",
       "      <td>[미나리랑 같이 먹는 오리주물럭 아주 맛있었어요, 고기시키면 뼈탕이 서비스였는데 들...</td>\n",
       "      <td>미나리 같이 오리 주물럭 아주 맛있 고기 시키 뼈탕 서비스 들깨 국물 맛있 .. 도...</td>\n",
       "    </tr>\n",
       "    <tr>\n",
       "      <th>2</th>\n",
       "      <td>고공 구의점</td>\n",
       "      <td>['구의역 소고기 맛집입니다', '토시살   갈비살   버 섯구이 구성의 소고기 세...</td>\n",
       "      <td>[토시 살, 된장찌개 밥, 가브리 살, 소고기 세트, 된장찌개밥, 돼지세트 , 김치...</td>\n",
       "      <td>[{'고공세트': ['고공세트', '고공 세트']}, {'소고기세트': ['소고기 ...</td>\n",
       "      <td>[토시살   갈비살   버 섯구이 구성의 소고기 세트 주문했어요, 고기도 정말 맛있...</td>\n",
       "      <td>토시 갈비 섯구이 구성 소고기 세트 주문 고기 정말 맛있 사이드 주문 쫄면 된장찌개...</td>\n",
       "    </tr>\n",
       "    <tr>\n",
       "      <th>3</th>\n",
       "      <td>고기반햄반김치찌개&amp;김치찜 아차산본점</td>\n",
       "      <td>['보글보글 김치찌개에 두부 추가하고 라면사리는 필수 로 넣어먹어요', '김치찌개 ...</td>\n",
       "      <td>[왕 계 이 란 말 이, 고기반김치찌개세트, 고기 반 김치찌개 세트, 왕계란말이, ...</td>\n",
       "      <td>[{'소불고기': ['소 불고기', '소불고기']}, {'고추장제육': ['고추장제...</td>\n",
       "      <td>[김찌는 맵기조절이가능하여 칼칼하게먹기딱좋고 제육은 불향이나서 짭졸하니 좋아요, 퐁...</td>\n",
       "      <td>김찌 맵기 조절 가능 칼칼하 제육 짭졸 퐁실퐁실 진짜 부드럽 쌉꿀마 김치찌개 계란말...</td>\n",
       "    </tr>\n",
       "    <tr>\n",
       "      <th>4</th>\n",
       "      <td>고향집</td>\n",
       "      <td>['새조개무침 벌교꼬막 대구탕   새조개무침  미쳤음', '맛있어요', '새조개 진...</td>\n",
       "      <td>[물회, 새꼬막양념, 벌교참꼬막, 간 재미, 새 꼬막, 참 꼬막 양념, 간재미 회무...</td>\n",
       "      <td>[{'쭈꾸미구이': ['쭈꾸미 구이', '쭈꾸미구이']}, {'짱뚱어탕': ['짱뚱...</td>\n",
       "      <td>[벌교참꼬막 38000 2인분 정도 될듯해요, 굴회무침 30 000 간재미무침과 양...</td>\n",
       "      <td>벌교 꼬막 38000 인분 정도 굴회 무침 30 000 재미 무침 양념 상큼 음식 ...</td>\n",
       "    </tr>\n",
       "  </tbody>\n",
       "</table>\n",
       "</div>"
      ],
      "text/plain": [
       "              rst_name                              review_sentence_split   \n",
       "0         가장맛있는족발 구의역점  ['잡내 안나고 맛있어용 구의 먹자골목 바로 앞에서 접 근성이 매우 좋습니당 지나가...  \\\n",
       "1       강나루 유황오리주물럭 본점  ['생 양념 둘다 강추 ㅎㅎ 가면 무조건 반반이쥬 ㅎㅎ', '늘 갈때마다 맛있어요 ...   \n",
       "2               고공 구의점  ['구의역 소고기 맛집입니다', '토시살   갈비살   버 섯구이 구성의 소고기 세...   \n",
       "3  고기반햄반김치찌개&김치찜 아차산본점  ['보글보글 김치찌개에 두부 추가하고 라면사리는 필수 로 넣어먹어요', '김치찌개 ...   \n",
       "4                  고향집  ['새조개무침 벌교꼬막 대구탕   새조개무침  미쳤음', '맛있어요', '새조개 진...   \n",
       "\n",
       "                                     menu_name_split   \n",
       "0  [, 족발 하 고, 불 족발 새우젓 마늘 쌈장 쌈 야채, 실속 알뜰 보쌈 겉절이, ...  \\\n",
       "1  [뼈탕, 양념 주물럭, 모듬한마리, 양념주물럭, 오리 주물럭, 훈제오리, 모듬 한 ...   \n",
       "2  [토시 살, 된장찌개 밥, 가브리 살, 소고기 세트, 된장찌개밥, 돼지세트 , 김치...   \n",
       "3  [왕 계 이 란 말 이, 고기반김치찌개세트, 고기 반 김치찌개 세트, 왕계란말이, ...   \n",
       "4  [물회, 새꼬막양념, 벌교참꼬막, 간 재미, 새 꼬막, 참 꼬막 양념, 간재미 회무...   \n",
       "\n",
       "                                       org_menu_dict   \n",
       "0  [{' 왕족발+막국수)': ['', '왕족발막국수)', ' 왕족발 막국수)', ' ...  \\\n",
       "1  [{'오리주물럭': ['오리 주물럭', '오리주물럭']}, {'모듬한마리': ['모...   \n",
       "2  [{'고공세트': ['고공세트', '고공 세트']}, {'소고기세트': ['소고기 ...   \n",
       "3  [{'소불고기': ['소 불고기', '소불고기']}, {'고추장제육': ['고추장제...   \n",
       "4  [{'쭈꾸미구이': ['쭈꾸미 구이', '쭈꾸미구이']}, {'짱뚱어탕': ['짱뚱...   \n",
       "\n",
       "                                       menu_sentence   \n",
       "0  [잡내 안나고 맛있어용 구의 먹자골목 바로 앞에서 접 근성이 매우 좋습니당 지나가면...  \\\n",
       "1  [미나리랑 같이 먹는 오리주물럭 아주 맛있었어요, 고기시키면 뼈탕이 서비스였는데 들...   \n",
       "2  [토시살   갈비살   버 섯구이 구성의 소고기 세트 주문했어요, 고기도 정말 맛있...   \n",
       "3  [김찌는 맵기조절이가능하여 칼칼하게먹기딱좋고 제육은 불향이나서 짭졸하니 좋아요, 퐁...   \n",
       "4  [벌교참꼬막 38000 2인분 정도 될듯해요, 굴회무침 30 000 간재미무침과 양...   \n",
       "\n",
       "                                          input_text  \n",
       "0  잡내 맛있 구의 먹자골목 바로 근성 매우 지나가 자주 서비스 메뉴 알차 맵 .. 아...  \n",
       "1  미나리 같이 오리 주물럭 아주 맛있 고기 시키 뼈탕 서비스 들깨 국물 맛있 .. 도...  \n",
       "2  토시 갈비 섯구이 구성 소고기 세트 주문 고기 정말 맛있 사이드 주문 쫄면 된장찌개...  \n",
       "3  김찌 맵기 조절 가능 칼칼하 제육 짭졸 퐁실퐁실 진짜 부드럽 쌉꿀마 김치찌개 계란말...  \n",
       "4  벌교 꼬막 38000 인분 정도 굴회 무침 30 000 재미 무침 양념 상큼 음식 ...  "
      ]
     },
     "execution_count": 40,
     "metadata": {},
     "output_type": "execute_result"
    }
   ],
   "source": [
    "# 데이터 생긴거 확인 가능\n",
    "\n",
    "data.head()"
   ]
  },
  {
   "cell_type": "code",
   "execution_count": 55,
   "metadata": {},
   "outputs": [
    {
     "name": "stdout",
     "output_type": "stream",
     "text": [
      "[('제육', 0.4742), ('간장 제육', 0.3241)]\n",
      "--------------------------------------------------------------------------------\n",
      "[('쭈꾸미 구이', 0.7002), ('짱뚱어탕', 0.6895), ('물회', 0.3199)]\n",
      "--------------------------------------------------------------------------------\n"
     ]
    }
   ],
   "source": [
    "rst_name_list, menu_name_list, keybert_scores = [], [], []\n",
    "\n",
    "for i in range(3, 5):\n",
    "    # 식당의 문장 리스트 추출\n",
    "    input_text = data.loc[i, 'input_text']\n",
    "    menu_candidates=data.loc[i, 'menu_name_split']\n",
    "\n",
    "    rst_name = data.loc[i, 'rst_name']\n",
    "    results = extract_keywords_from_reviews_candy(input_text,menu_candidates)\n",
    "    print(results)\n",
    "    for result in results:\n",
    "        name, score = result[0], result[1]\n",
    "    "
   ]
  },
  {
   "cell_type": "code",
   "execution_count": null,
   "metadata": {},
   "outputs": [],
   "source": []
  },
  {
   "cell_type": "markdown",
   "metadata": {},
   "source": [
    "### 감성분석 점수"
   ]
  },
  {
   "cell_type": "code",
   "execution_count": null,
   "metadata": {},
   "outputs": [],
   "source": []
  },
  {
   "cell_type": "markdown",
   "metadata": {},
   "source": [
    "### 데이터프레임 저장"
   ]
  }
 ],
 "metadata": {
  "kernelspec": {
   "display_name": "Python 3",
   "language": "python",
   "name": "python3"
  },
  "language_info": {
   "codemirror_mode": {
    "name": "ipython",
    "version": 3
   },
   "file_extension": ".py",
   "mimetype": "text/x-python",
   "name": "python",
   "nbconvert_exporter": "python",
   "pygments_lexer": "ipython3",
   "version": "3.11.5"
  }
 },
 "nbformat": 4,
 "nbformat_minor": 2
}
